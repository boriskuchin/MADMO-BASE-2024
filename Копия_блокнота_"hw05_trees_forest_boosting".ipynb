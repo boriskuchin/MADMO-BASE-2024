{
  "cells": [
    {
      "cell_type": "markdown",
      "metadata": {
        "id": "view-in-github",
        "colab_type": "text"
      },
      "source": [
        "<a href=\"https://colab.research.google.com/github/boriskuchin/MADMO-BASE-2024/blob/main/%D0%9A%D0%BE%D0%BF%D0%B8%D1%8F_%D0%B1%D0%BB%D0%BE%D0%BA%D0%BD%D0%BE%D1%82%D0%B0_%22hw05_trees_forest_boosting%22.ipynb\" target=\"_parent\"><img src=\"https://colab.research.google.com/assets/colab-badge.svg\" alt=\"Open In Colab\"/></a>"
      ]
    },
    {
      "cell_type": "markdown",
      "source": [
        "# ДЗ 5. Решающие деревья, леса, бустинги"
      ],
      "metadata": {
        "id": "Op_Jufx7FnBP"
      }
    },
    {
      "cell_type": "markdown",
      "source": [
        "В рамках этого ДЗ вам предлагается решить задачу кредитного скоринга с соревнования на [Kaggle](https://inclass.kaggle.com/c/beeline-credit-scoring-competition-2), используя \"древесные\" модели классификации."
      ],
      "metadata": {
        "id": "sjna4uFvF2TM"
      }
    },
    {
      "cell_type": "code",
      "execution_count": 97,
      "metadata": {
        "id": "QIVtTY-4BXxq",
        "colab": {
          "base_uri": "https://localhost:8080/"
        },
        "outputId": "124d103a-6b73-4015-a045-9d02eabfc78a"
      },
      "outputs": [
        {
          "output_type": "stream",
          "name": "stdout",
          "text": [
            "Populating the interactive namespace from numpy and matplotlib\n"
          ]
        }
      ],
      "source": [
        "import warnings\n",
        "warnings.filterwarnings('ignore')\n",
        "import numpy as np\n",
        "import pandas as pd\n",
        "\n",
        "%pylab inline"
      ]
    },
    {
      "cell_type": "markdown",
      "metadata": {
        "id": "4eIujyofBXxs"
      },
      "source": [
        "# Предобработка данных"
      ]
    },
    {
      "cell_type": "code",
      "source": [
        "!gdown 1RT9638iIwAP3JmdgPcxHN15NvsAHf7am"
      ],
      "metadata": {
        "colab": {
          "base_uri": "https://localhost:8080/"
        },
        "id": "QzqcE43OGckp",
        "outputId": "505f2b9e-d899-4492-8a56-2cd66c3fd46f"
      },
      "execution_count": 98,
      "outputs": [
        {
          "output_type": "stream",
          "name": "stdout",
          "text": [
            "Downloading...\n",
            "From: https://drive.google.com/uc?id=1RT9638iIwAP3JmdgPcxHN15NvsAHf7am\n",
            "To: /content/credit_scoring_train.csv\n",
            "\r  0% 0.00/3.95M [00:00<?, ?B/s]\r 40% 1.57M/3.95M [00:00<00:00, 15.4MB/s]\r100% 3.95M/3.95M [00:00<00:00, 30.4MB/s]\n"
          ]
        }
      ]
    },
    {
      "cell_type": "code",
      "execution_count": 99,
      "metadata": {
        "id": "HDI6P1fKBXxs"
      },
      "outputs": [],
      "source": [
        "train_df = pd.read_csv('credit_scoring_train.csv', index_col='client_id')"
      ]
    },
    {
      "cell_type": "markdown",
      "metadata": {
        "id": "2HUAilhABXxo"
      },
      "source": [
        "Признаки клиентов банка:\n",
        "- `Age` - возраст (вещественный)\n",
        "- `Income` - месячный доход (вещественный)\n",
        "- `BalanceToCreditLimit` - отношение баланса на кредитной карте к лимиту по кредиту (вещественный)\n",
        "- `DIR` - Debt-to-income Ratio (вещественный)\n",
        "- `NumLoans` - число заемов и кредитных линий\n",
        "- `NumRealEstateLoans` - число ипотек и заемов, связанных с недвижимостью (натуральное число)\n",
        "- `NumDependents` - число членов семьи, которых содержит клиент, исключая самого клиента (натуральное число)\n",
        "- `Num30-59Delinquencies` - число просрочек выплат по кредиту от 30 до 59 дней (натуральное число)\n",
        "- `Num60-89Delinquencies` - число просрочек выплат по кредиту от 60 до 89 дней (натуральное число)\n",
        "- `Delinquent90` - были ли просрочки выплат по кредиту более 90 дней (бинарный) - имеется только в обучающей выборке"
      ]
    },
    {
      "cell_type": "markdown",
      "source": [
        "### Знакомство с данными"
      ],
      "metadata": {
        "id": "P1RelOe7I0qj"
      }
    },
    {
      "cell_type": "markdown",
      "source": [
        "Ознакомимся с данными:"
      ],
      "metadata": {
        "id": "xVAgA5WwHDry"
      }
    },
    {
      "cell_type": "code",
      "execution_count": 100,
      "metadata": {
        "colab": {
          "base_uri": "https://localhost:8080/",
          "height": 275
        },
        "id": "cwn3O8rYBXxu",
        "outputId": "a30cd21e-f79f-4436-f063-62c4195f63f5"
      },
      "outputs": [
        {
          "output_type": "execute_result",
          "data": {
            "text/plain": [
              "                   DIR   Age  NumLoans  NumRealEstateLoans  NumDependents  \\\n",
              "client_id                                                                   \n",
              "0             0.496289  49.1        13                   0            0.0   \n",
              "1             0.433567  48.0         9                   2            2.0   \n",
              "2          2206.731199  55.5        21                   1            NaN   \n",
              "3           886.132793  55.3         3                   0            0.0   \n",
              "4             0.000000  52.3         1                   0            0.0   \n",
              "\n",
              "           Num30-59Delinquencies  Num60-89Delinquencies       Income  \\\n",
              "client_id                                                              \n",
              "0                              2                      0  5298.360639   \n",
              "1                              1                      0  6008.056256   \n",
              "2                              1                      0          NaN   \n",
              "3                              0                      0          NaN   \n",
              "4                              0                      0  2504.613105   \n",
              "\n",
              "           BalanceToCreditLimit  Delinquent90  \n",
              "client_id                                      \n",
              "0                      0.387028             0  \n",
              "1                      0.234679             0  \n",
              "2                      0.348227             0  \n",
              "3                      0.971930             0  \n",
              "4                      1.004350             0  "
            ],
            "text/html": [
              "\n",
              "  <div id=\"df-261f05ce-61d4-4f4c-820b-f93b9a8e7764\" class=\"colab-df-container\">\n",
              "    <div>\n",
              "<style scoped>\n",
              "    .dataframe tbody tr th:only-of-type {\n",
              "        vertical-align: middle;\n",
              "    }\n",
              "\n",
              "    .dataframe tbody tr th {\n",
              "        vertical-align: top;\n",
              "    }\n",
              "\n",
              "    .dataframe thead th {\n",
              "        text-align: right;\n",
              "    }\n",
              "</style>\n",
              "<table border=\"1\" class=\"dataframe\">\n",
              "  <thead>\n",
              "    <tr style=\"text-align: right;\">\n",
              "      <th></th>\n",
              "      <th>DIR</th>\n",
              "      <th>Age</th>\n",
              "      <th>NumLoans</th>\n",
              "      <th>NumRealEstateLoans</th>\n",
              "      <th>NumDependents</th>\n",
              "      <th>Num30-59Delinquencies</th>\n",
              "      <th>Num60-89Delinquencies</th>\n",
              "      <th>Income</th>\n",
              "      <th>BalanceToCreditLimit</th>\n",
              "      <th>Delinquent90</th>\n",
              "    </tr>\n",
              "    <tr>\n",
              "      <th>client_id</th>\n",
              "      <th></th>\n",
              "      <th></th>\n",
              "      <th></th>\n",
              "      <th></th>\n",
              "      <th></th>\n",
              "      <th></th>\n",
              "      <th></th>\n",
              "      <th></th>\n",
              "      <th></th>\n",
              "      <th></th>\n",
              "    </tr>\n",
              "  </thead>\n",
              "  <tbody>\n",
              "    <tr>\n",
              "      <th>0</th>\n",
              "      <td>0.496289</td>\n",
              "      <td>49.1</td>\n",
              "      <td>13</td>\n",
              "      <td>0</td>\n",
              "      <td>0.0</td>\n",
              "      <td>2</td>\n",
              "      <td>0</td>\n",
              "      <td>5298.360639</td>\n",
              "      <td>0.387028</td>\n",
              "      <td>0</td>\n",
              "    </tr>\n",
              "    <tr>\n",
              "      <th>1</th>\n",
              "      <td>0.433567</td>\n",
              "      <td>48.0</td>\n",
              "      <td>9</td>\n",
              "      <td>2</td>\n",
              "      <td>2.0</td>\n",
              "      <td>1</td>\n",
              "      <td>0</td>\n",
              "      <td>6008.056256</td>\n",
              "      <td>0.234679</td>\n",
              "      <td>0</td>\n",
              "    </tr>\n",
              "    <tr>\n",
              "      <th>2</th>\n",
              "      <td>2206.731199</td>\n",
              "      <td>55.5</td>\n",
              "      <td>21</td>\n",
              "      <td>1</td>\n",
              "      <td>NaN</td>\n",
              "      <td>1</td>\n",
              "      <td>0</td>\n",
              "      <td>NaN</td>\n",
              "      <td>0.348227</td>\n",
              "      <td>0</td>\n",
              "    </tr>\n",
              "    <tr>\n",
              "      <th>3</th>\n",
              "      <td>886.132793</td>\n",
              "      <td>55.3</td>\n",
              "      <td>3</td>\n",
              "      <td>0</td>\n",
              "      <td>0.0</td>\n",
              "      <td>0</td>\n",
              "      <td>0</td>\n",
              "      <td>NaN</td>\n",
              "      <td>0.971930</td>\n",
              "      <td>0</td>\n",
              "    </tr>\n",
              "    <tr>\n",
              "      <th>4</th>\n",
              "      <td>0.000000</td>\n",
              "      <td>52.3</td>\n",
              "      <td>1</td>\n",
              "      <td>0</td>\n",
              "      <td>0.0</td>\n",
              "      <td>0</td>\n",
              "      <td>0</td>\n",
              "      <td>2504.613105</td>\n",
              "      <td>1.004350</td>\n",
              "      <td>0</td>\n",
              "    </tr>\n",
              "  </tbody>\n",
              "</table>\n",
              "</div>\n",
              "    <div class=\"colab-df-buttons\">\n",
              "\n",
              "  <div class=\"colab-df-container\">\n",
              "    <button class=\"colab-df-convert\" onclick=\"convertToInteractive('df-261f05ce-61d4-4f4c-820b-f93b9a8e7764')\"\n",
              "            title=\"Convert this dataframe to an interactive table.\"\n",
              "            style=\"display:none;\">\n",
              "\n",
              "  <svg xmlns=\"http://www.w3.org/2000/svg\" height=\"24px\" viewBox=\"0 -960 960 960\">\n",
              "    <path d=\"M120-120v-720h720v720H120Zm60-500h600v-160H180v160Zm220 220h160v-160H400v160Zm0 220h160v-160H400v160ZM180-400h160v-160H180v160Zm440 0h160v-160H620v160ZM180-180h160v-160H180v160Zm440 0h160v-160H620v160Z\"/>\n",
              "  </svg>\n",
              "    </button>\n",
              "\n",
              "  <style>\n",
              "    .colab-df-container {\n",
              "      display:flex;\n",
              "      gap: 12px;\n",
              "    }\n",
              "\n",
              "    .colab-df-convert {\n",
              "      background-color: #E8F0FE;\n",
              "      border: none;\n",
              "      border-radius: 50%;\n",
              "      cursor: pointer;\n",
              "      display: none;\n",
              "      fill: #1967D2;\n",
              "      height: 32px;\n",
              "      padding: 0 0 0 0;\n",
              "      width: 32px;\n",
              "    }\n",
              "\n",
              "    .colab-df-convert:hover {\n",
              "      background-color: #E2EBFA;\n",
              "      box-shadow: 0px 1px 2px rgba(60, 64, 67, 0.3), 0px 1px 3px 1px rgba(60, 64, 67, 0.15);\n",
              "      fill: #174EA6;\n",
              "    }\n",
              "\n",
              "    .colab-df-buttons div {\n",
              "      margin-bottom: 4px;\n",
              "    }\n",
              "\n",
              "    [theme=dark] .colab-df-convert {\n",
              "      background-color: #3B4455;\n",
              "      fill: #D2E3FC;\n",
              "    }\n",
              "\n",
              "    [theme=dark] .colab-df-convert:hover {\n",
              "      background-color: #434B5C;\n",
              "      box-shadow: 0px 1px 3px 1px rgba(0, 0, 0, 0.15);\n",
              "      filter: drop-shadow(0px 1px 2px rgba(0, 0, 0, 0.3));\n",
              "      fill: #FFFFFF;\n",
              "    }\n",
              "  </style>\n",
              "\n",
              "    <script>\n",
              "      const buttonEl =\n",
              "        document.querySelector('#df-261f05ce-61d4-4f4c-820b-f93b9a8e7764 button.colab-df-convert');\n",
              "      buttonEl.style.display =\n",
              "        google.colab.kernel.accessAllowed ? 'block' : 'none';\n",
              "\n",
              "      async function convertToInteractive(key) {\n",
              "        const element = document.querySelector('#df-261f05ce-61d4-4f4c-820b-f93b9a8e7764');\n",
              "        const dataTable =\n",
              "          await google.colab.kernel.invokeFunction('convertToInteractive',\n",
              "                                                    [key], {});\n",
              "        if (!dataTable) return;\n",
              "\n",
              "        const docLinkHtml = 'Like what you see? Visit the ' +\n",
              "          '<a target=\"_blank\" href=https://colab.research.google.com/notebooks/data_table.ipynb>data table notebook</a>'\n",
              "          + ' to learn more about interactive tables.';\n",
              "        element.innerHTML = '';\n",
              "        dataTable['output_type'] = 'display_data';\n",
              "        await google.colab.output.renderOutput(dataTable, element);\n",
              "        const docLink = document.createElement('div');\n",
              "        docLink.innerHTML = docLinkHtml;\n",
              "        element.appendChild(docLink);\n",
              "      }\n",
              "    </script>\n",
              "  </div>\n",
              "\n",
              "\n",
              "<div id=\"df-89b696f7-ee61-4767-ab21-df6cc77ef815\">\n",
              "  <button class=\"colab-df-quickchart\" onclick=\"quickchart('df-89b696f7-ee61-4767-ab21-df6cc77ef815')\"\n",
              "            title=\"Suggest charts\"\n",
              "            style=\"display:none;\">\n",
              "\n",
              "<svg xmlns=\"http://www.w3.org/2000/svg\" height=\"24px\"viewBox=\"0 0 24 24\"\n",
              "     width=\"24px\">\n",
              "    <g>\n",
              "        <path d=\"M19 3H5c-1.1 0-2 .9-2 2v14c0 1.1.9 2 2 2h14c1.1 0 2-.9 2-2V5c0-1.1-.9-2-2-2zM9 17H7v-7h2v7zm4 0h-2V7h2v10zm4 0h-2v-4h2v4z\"/>\n",
              "    </g>\n",
              "</svg>\n",
              "  </button>\n",
              "\n",
              "<style>\n",
              "  .colab-df-quickchart {\n",
              "      --bg-color: #E8F0FE;\n",
              "      --fill-color: #1967D2;\n",
              "      --hover-bg-color: #E2EBFA;\n",
              "      --hover-fill-color: #174EA6;\n",
              "      --disabled-fill-color: #AAA;\n",
              "      --disabled-bg-color: #DDD;\n",
              "  }\n",
              "\n",
              "  [theme=dark] .colab-df-quickchart {\n",
              "      --bg-color: #3B4455;\n",
              "      --fill-color: #D2E3FC;\n",
              "      --hover-bg-color: #434B5C;\n",
              "      --hover-fill-color: #FFFFFF;\n",
              "      --disabled-bg-color: #3B4455;\n",
              "      --disabled-fill-color: #666;\n",
              "  }\n",
              "\n",
              "  .colab-df-quickchart {\n",
              "    background-color: var(--bg-color);\n",
              "    border: none;\n",
              "    border-radius: 50%;\n",
              "    cursor: pointer;\n",
              "    display: none;\n",
              "    fill: var(--fill-color);\n",
              "    height: 32px;\n",
              "    padding: 0;\n",
              "    width: 32px;\n",
              "  }\n",
              "\n",
              "  .colab-df-quickchart:hover {\n",
              "    background-color: var(--hover-bg-color);\n",
              "    box-shadow: 0 1px 2px rgba(60, 64, 67, 0.3), 0 1px 3px 1px rgba(60, 64, 67, 0.15);\n",
              "    fill: var(--button-hover-fill-color);\n",
              "  }\n",
              "\n",
              "  .colab-df-quickchart-complete:disabled,\n",
              "  .colab-df-quickchart-complete:disabled:hover {\n",
              "    background-color: var(--disabled-bg-color);\n",
              "    fill: var(--disabled-fill-color);\n",
              "    box-shadow: none;\n",
              "  }\n",
              "\n",
              "  .colab-df-spinner {\n",
              "    border: 2px solid var(--fill-color);\n",
              "    border-color: transparent;\n",
              "    border-bottom-color: var(--fill-color);\n",
              "    animation:\n",
              "      spin 1s steps(1) infinite;\n",
              "  }\n",
              "\n",
              "  @keyframes spin {\n",
              "    0% {\n",
              "      border-color: transparent;\n",
              "      border-bottom-color: var(--fill-color);\n",
              "      border-left-color: var(--fill-color);\n",
              "    }\n",
              "    20% {\n",
              "      border-color: transparent;\n",
              "      border-left-color: var(--fill-color);\n",
              "      border-top-color: var(--fill-color);\n",
              "    }\n",
              "    30% {\n",
              "      border-color: transparent;\n",
              "      border-left-color: var(--fill-color);\n",
              "      border-top-color: var(--fill-color);\n",
              "      border-right-color: var(--fill-color);\n",
              "    }\n",
              "    40% {\n",
              "      border-color: transparent;\n",
              "      border-right-color: var(--fill-color);\n",
              "      border-top-color: var(--fill-color);\n",
              "    }\n",
              "    60% {\n",
              "      border-color: transparent;\n",
              "      border-right-color: var(--fill-color);\n",
              "    }\n",
              "    80% {\n",
              "      border-color: transparent;\n",
              "      border-right-color: var(--fill-color);\n",
              "      border-bottom-color: var(--fill-color);\n",
              "    }\n",
              "    90% {\n",
              "      border-color: transparent;\n",
              "      border-bottom-color: var(--fill-color);\n",
              "    }\n",
              "  }\n",
              "</style>\n",
              "\n",
              "  <script>\n",
              "    async function quickchart(key) {\n",
              "      const quickchartButtonEl =\n",
              "        document.querySelector('#' + key + ' button');\n",
              "      quickchartButtonEl.disabled = true;  // To prevent multiple clicks.\n",
              "      quickchartButtonEl.classList.add('colab-df-spinner');\n",
              "      try {\n",
              "        const charts = await google.colab.kernel.invokeFunction(\n",
              "            'suggestCharts', [key], {});\n",
              "      } catch (error) {\n",
              "        console.error('Error during call to suggestCharts:', error);\n",
              "      }\n",
              "      quickchartButtonEl.classList.remove('colab-df-spinner');\n",
              "      quickchartButtonEl.classList.add('colab-df-quickchart-complete');\n",
              "    }\n",
              "    (() => {\n",
              "      let quickchartButtonEl =\n",
              "        document.querySelector('#df-89b696f7-ee61-4767-ab21-df6cc77ef815 button');\n",
              "      quickchartButtonEl.style.display =\n",
              "        google.colab.kernel.accessAllowed ? 'block' : 'none';\n",
              "    })();\n",
              "  </script>\n",
              "</div>\n",
              "    </div>\n",
              "  </div>\n"
            ],
            "application/vnd.google.colaboratory.intrinsic+json": {
              "type": "dataframe",
              "variable_name": "train_df",
              "summary": "{\n  \"name\": \"train_df\",\n  \"rows\": 75000,\n  \"fields\": [\n    {\n      \"column\": \"client_id\",\n      \"properties\": {\n        \"dtype\": \"number\",\n        \"std\": 21650,\n        \"min\": 0,\n        \"max\": 74999,\n        \"num_unique_values\": 75000,\n        \"samples\": [\n          26837,\n          2592,\n          18359\n        ],\n        \"semantic_type\": \"\",\n        \"description\": \"\"\n      }\n    },\n    {\n      \"column\": \"DIR\",\n      \"properties\": {\n        \"dtype\": \"number\",\n        \"std\": 2117.2374324553402,\n        \"min\": 0.0,\n        \"max\": 332600.27282,\n        \"num_unique_values\": 70376,\n        \"samples\": [\n          0.129401,\n          0.510356,\n          0.287348\n        ],\n        \"semantic_type\": \"\",\n        \"description\": \"\"\n      }\n    },\n    {\n      \"column\": \"Age\",\n      \"properties\": {\n        \"dtype\": \"number\",\n        \"std\": 14.869728650448648,\n        \"min\": 21.0,\n        \"max\": 109.8,\n        \"num_unique_values\": 527,\n        \"samples\": [\n          70.2,\n          87.2,\n          71.3\n        ],\n        \"semantic_type\": \"\",\n        \"description\": \"\"\n      }\n    },\n    {\n      \"column\": \"NumLoans\",\n      \"properties\": {\n        \"dtype\": \"number\",\n        \"std\": 5,\n        \"min\": 0,\n        \"max\": 56,\n        \"num_unique_values\": 55,\n        \"samples\": [\n          24,\n          18,\n          30\n        ],\n        \"semantic_type\": \"\",\n        \"description\": \"\"\n      }\n    },\n    {\n      \"column\": \"NumRealEstateLoans\",\n      \"properties\": {\n        \"dtype\": \"number\",\n        \"std\": 1,\n        \"min\": 0,\n        \"max\": 32,\n        \"num_unique_values\": 24,\n        \"samples\": [\n          9,\n          13,\n          0\n        ],\n        \"semantic_type\": \"\",\n        \"description\": \"\"\n      }\n    },\n    {\n      \"column\": \"NumDependents\",\n      \"properties\": {\n        \"dtype\": \"number\",\n        \"std\": 1.108119046378212,\n        \"min\": 0.0,\n        \"max\": 20.0,\n        \"num_unique_values\": 13,\n        \"samples\": [\n          13.0,\n          10.0,\n          0.0\n        ],\n        \"semantic_type\": \"\",\n        \"description\": \"\"\n      }\n    },\n    {\n      \"column\": \"Num30-59Delinquencies\",\n      \"properties\": {\n        \"dtype\": \"number\",\n        \"std\": 4,\n        \"min\": 0,\n        \"max\": 98,\n        \"num_unique_values\": 16,\n        \"samples\": [\n          2,\n          1,\n          98\n        ],\n        \"semantic_type\": \"\",\n        \"description\": \"\"\n      }\n    },\n    {\n      \"column\": \"Num60-89Delinquencies\",\n      \"properties\": {\n        \"dtype\": \"number\",\n        \"std\": 4,\n        \"min\": 0,\n        \"max\": 98,\n        \"num_unique_values\": 11,\n        \"samples\": [\n          5,\n          0,\n          96\n        ],\n        \"semantic_type\": \"\",\n        \"description\": \"\"\n      }\n    },\n    {\n      \"column\": \"Income\",\n      \"properties\": {\n        \"dtype\": \"number\",\n        \"std\": 14228.754879654942,\n        \"min\": 0.0,\n        \"max\": 1805573.35226,\n        \"num_unique_values\": 59346,\n        \"samples\": [\n          17601.230826,\n          5636.321797,\n          2608.567579\n        ],\n        \"semantic_type\": \"\",\n        \"description\": \"\"\n      }\n    },\n    {\n      \"column\": \"BalanceToCreditLimit\",\n      \"properties\": {\n        \"dtype\": \"number\",\n        \"std\": 267.74332136662974,\n        \"min\": 0.0,\n        \"max\": 50873.874533,\n        \"num_unique_values\": 63413,\n        \"samples\": [\n          0.051996,\n          0.209099,\n          1.008807\n        ],\n        \"semantic_type\": \"\",\n        \"description\": \"\"\n      }\n    },\n    {\n      \"column\": \"Delinquent90\",\n      \"properties\": {\n        \"dtype\": \"number\",\n        \"std\": 0,\n        \"min\": 0,\n        \"max\": 1,\n        \"num_unique_values\": 2,\n        \"samples\": [\n          1,\n          0\n        ],\n        \"semantic_type\": \"\",\n        \"description\": \"\"\n      }\n    }\n  ]\n}"
            }
          },
          "metadata": {},
          "execution_count": 100
        }
      ],
      "source": [
        "train_df.head()"
      ]
    },
    {
      "cell_type": "code",
      "execution_count": 101,
      "metadata": {
        "colab": {
          "base_uri": "https://localhost:8080/",
          "height": 337
        },
        "id": "TbjB4xIhBXxv",
        "outputId": "6344e261-a132-42c3-be17-173ea41ea530"
      },
      "outputs": [
        {
          "output_type": "execute_result",
          "data": {
            "text/plain": [
              "                 DIR           Age     NumLoans  NumRealEstateLoans  \\\n",
              "count   75000.000000  75000.000000  75000.00000        75000.000000   \n",
              "mean      353.260293     52.595605      8.44976            1.016693   \n",
              "std      2117.237432     14.869729      5.15644            1.124019   \n",
              "min         0.000000     21.000000      0.00000            0.000000   \n",
              "25%         0.176022     41.300000      5.00000            0.000000   \n",
              "50%         0.366848     52.200000      8.00000            1.000000   \n",
              "75%         0.862650     63.100000     11.00000            2.000000   \n",
              "max    332600.272820    109.800000     56.00000           32.000000   \n",
              "\n",
              "       NumDependents  Num30-59Delinquencies  Num60-89Delinquencies  \\\n",
              "count   73084.000000           75000.000000           75000.000000   \n",
              "mean        0.755966               0.428320               0.248000   \n",
              "std         1.108119               4.276439               4.239486   \n",
              "min         0.000000               0.000000               0.000000   \n",
              "25%         0.000000               0.000000               0.000000   \n",
              "50%         0.000000               0.000000               0.000000   \n",
              "75%         1.000000               0.000000               0.000000   \n",
              "max        20.000000              98.000000              98.000000   \n",
              "\n",
              "             Income  BalanceToCreditLimit  Delinquent90  \n",
              "count  6.015300e+04          75000.000000  75000.000000  \n",
              "mean   6.740059e+03              6.276196      0.066840  \n",
              "std    1.422875e+04            267.743321      0.249746  \n",
              "min    0.000000e+00              0.000000      0.000000  \n",
              "25%    3.421354e+03              0.029703      0.000000  \n",
              "50%    5.424552e+03              0.153720      0.000000  \n",
              "75%    8.291518e+03              0.560638      0.000000  \n",
              "max    1.805573e+06          50873.874533      1.000000  "
            ],
            "text/html": [
              "\n",
              "  <div id=\"df-40b28f9d-8dad-4e1e-9cfb-02b606ee46bd\" class=\"colab-df-container\">\n",
              "    <div>\n",
              "<style scoped>\n",
              "    .dataframe tbody tr th:only-of-type {\n",
              "        vertical-align: middle;\n",
              "    }\n",
              "\n",
              "    .dataframe tbody tr th {\n",
              "        vertical-align: top;\n",
              "    }\n",
              "\n",
              "    .dataframe thead th {\n",
              "        text-align: right;\n",
              "    }\n",
              "</style>\n",
              "<table border=\"1\" class=\"dataframe\">\n",
              "  <thead>\n",
              "    <tr style=\"text-align: right;\">\n",
              "      <th></th>\n",
              "      <th>DIR</th>\n",
              "      <th>Age</th>\n",
              "      <th>NumLoans</th>\n",
              "      <th>NumRealEstateLoans</th>\n",
              "      <th>NumDependents</th>\n",
              "      <th>Num30-59Delinquencies</th>\n",
              "      <th>Num60-89Delinquencies</th>\n",
              "      <th>Income</th>\n",
              "      <th>BalanceToCreditLimit</th>\n",
              "      <th>Delinquent90</th>\n",
              "    </tr>\n",
              "  </thead>\n",
              "  <tbody>\n",
              "    <tr>\n",
              "      <th>count</th>\n",
              "      <td>75000.000000</td>\n",
              "      <td>75000.000000</td>\n",
              "      <td>75000.00000</td>\n",
              "      <td>75000.000000</td>\n",
              "      <td>73084.000000</td>\n",
              "      <td>75000.000000</td>\n",
              "      <td>75000.000000</td>\n",
              "      <td>6.015300e+04</td>\n",
              "      <td>75000.000000</td>\n",
              "      <td>75000.000000</td>\n",
              "    </tr>\n",
              "    <tr>\n",
              "      <th>mean</th>\n",
              "      <td>353.260293</td>\n",
              "      <td>52.595605</td>\n",
              "      <td>8.44976</td>\n",
              "      <td>1.016693</td>\n",
              "      <td>0.755966</td>\n",
              "      <td>0.428320</td>\n",
              "      <td>0.248000</td>\n",
              "      <td>6.740059e+03</td>\n",
              "      <td>6.276196</td>\n",
              "      <td>0.066840</td>\n",
              "    </tr>\n",
              "    <tr>\n",
              "      <th>std</th>\n",
              "      <td>2117.237432</td>\n",
              "      <td>14.869729</td>\n",
              "      <td>5.15644</td>\n",
              "      <td>1.124019</td>\n",
              "      <td>1.108119</td>\n",
              "      <td>4.276439</td>\n",
              "      <td>4.239486</td>\n",
              "      <td>1.422875e+04</td>\n",
              "      <td>267.743321</td>\n",
              "      <td>0.249746</td>\n",
              "    </tr>\n",
              "    <tr>\n",
              "      <th>min</th>\n",
              "      <td>0.000000</td>\n",
              "      <td>21.000000</td>\n",
              "      <td>0.00000</td>\n",
              "      <td>0.000000</td>\n",
              "      <td>0.000000</td>\n",
              "      <td>0.000000</td>\n",
              "      <td>0.000000</td>\n",
              "      <td>0.000000e+00</td>\n",
              "      <td>0.000000</td>\n",
              "      <td>0.000000</td>\n",
              "    </tr>\n",
              "    <tr>\n",
              "      <th>25%</th>\n",
              "      <td>0.176022</td>\n",
              "      <td>41.300000</td>\n",
              "      <td>5.00000</td>\n",
              "      <td>0.000000</td>\n",
              "      <td>0.000000</td>\n",
              "      <td>0.000000</td>\n",
              "      <td>0.000000</td>\n",
              "      <td>3.421354e+03</td>\n",
              "      <td>0.029703</td>\n",
              "      <td>0.000000</td>\n",
              "    </tr>\n",
              "    <tr>\n",
              "      <th>50%</th>\n",
              "      <td>0.366848</td>\n",
              "      <td>52.200000</td>\n",
              "      <td>8.00000</td>\n",
              "      <td>1.000000</td>\n",
              "      <td>0.000000</td>\n",
              "      <td>0.000000</td>\n",
              "      <td>0.000000</td>\n",
              "      <td>5.424552e+03</td>\n",
              "      <td>0.153720</td>\n",
              "      <td>0.000000</td>\n",
              "    </tr>\n",
              "    <tr>\n",
              "      <th>75%</th>\n",
              "      <td>0.862650</td>\n",
              "      <td>63.100000</td>\n",
              "      <td>11.00000</td>\n",
              "      <td>2.000000</td>\n",
              "      <td>1.000000</td>\n",
              "      <td>0.000000</td>\n",
              "      <td>0.000000</td>\n",
              "      <td>8.291518e+03</td>\n",
              "      <td>0.560638</td>\n",
              "      <td>0.000000</td>\n",
              "    </tr>\n",
              "    <tr>\n",
              "      <th>max</th>\n",
              "      <td>332600.272820</td>\n",
              "      <td>109.800000</td>\n",
              "      <td>56.00000</td>\n",
              "      <td>32.000000</td>\n",
              "      <td>20.000000</td>\n",
              "      <td>98.000000</td>\n",
              "      <td>98.000000</td>\n",
              "      <td>1.805573e+06</td>\n",
              "      <td>50873.874533</td>\n",
              "      <td>1.000000</td>\n",
              "    </tr>\n",
              "  </tbody>\n",
              "</table>\n",
              "</div>\n",
              "    <div class=\"colab-df-buttons\">\n",
              "\n",
              "  <div class=\"colab-df-container\">\n",
              "    <button class=\"colab-df-convert\" onclick=\"convertToInteractive('df-40b28f9d-8dad-4e1e-9cfb-02b606ee46bd')\"\n",
              "            title=\"Convert this dataframe to an interactive table.\"\n",
              "            style=\"display:none;\">\n",
              "\n",
              "  <svg xmlns=\"http://www.w3.org/2000/svg\" height=\"24px\" viewBox=\"0 -960 960 960\">\n",
              "    <path d=\"M120-120v-720h720v720H120Zm60-500h600v-160H180v160Zm220 220h160v-160H400v160Zm0 220h160v-160H400v160ZM180-400h160v-160H180v160Zm440 0h160v-160H620v160ZM180-180h160v-160H180v160Zm440 0h160v-160H620v160Z\"/>\n",
              "  </svg>\n",
              "    </button>\n",
              "\n",
              "  <style>\n",
              "    .colab-df-container {\n",
              "      display:flex;\n",
              "      gap: 12px;\n",
              "    }\n",
              "\n",
              "    .colab-df-convert {\n",
              "      background-color: #E8F0FE;\n",
              "      border: none;\n",
              "      border-radius: 50%;\n",
              "      cursor: pointer;\n",
              "      display: none;\n",
              "      fill: #1967D2;\n",
              "      height: 32px;\n",
              "      padding: 0 0 0 0;\n",
              "      width: 32px;\n",
              "    }\n",
              "\n",
              "    .colab-df-convert:hover {\n",
              "      background-color: #E2EBFA;\n",
              "      box-shadow: 0px 1px 2px rgba(60, 64, 67, 0.3), 0px 1px 3px 1px rgba(60, 64, 67, 0.15);\n",
              "      fill: #174EA6;\n",
              "    }\n",
              "\n",
              "    .colab-df-buttons div {\n",
              "      margin-bottom: 4px;\n",
              "    }\n",
              "\n",
              "    [theme=dark] .colab-df-convert {\n",
              "      background-color: #3B4455;\n",
              "      fill: #D2E3FC;\n",
              "    }\n",
              "\n",
              "    [theme=dark] .colab-df-convert:hover {\n",
              "      background-color: #434B5C;\n",
              "      box-shadow: 0px 1px 3px 1px rgba(0, 0, 0, 0.15);\n",
              "      filter: drop-shadow(0px 1px 2px rgba(0, 0, 0, 0.3));\n",
              "      fill: #FFFFFF;\n",
              "    }\n",
              "  </style>\n",
              "\n",
              "    <script>\n",
              "      const buttonEl =\n",
              "        document.querySelector('#df-40b28f9d-8dad-4e1e-9cfb-02b606ee46bd button.colab-df-convert');\n",
              "      buttonEl.style.display =\n",
              "        google.colab.kernel.accessAllowed ? 'block' : 'none';\n",
              "\n",
              "      async function convertToInteractive(key) {\n",
              "        const element = document.querySelector('#df-40b28f9d-8dad-4e1e-9cfb-02b606ee46bd');\n",
              "        const dataTable =\n",
              "          await google.colab.kernel.invokeFunction('convertToInteractive',\n",
              "                                                    [key], {});\n",
              "        if (!dataTable) return;\n",
              "\n",
              "        const docLinkHtml = 'Like what you see? Visit the ' +\n",
              "          '<a target=\"_blank\" href=https://colab.research.google.com/notebooks/data_table.ipynb>data table notebook</a>'\n",
              "          + ' to learn more about interactive tables.';\n",
              "        element.innerHTML = '';\n",
              "        dataTable['output_type'] = 'display_data';\n",
              "        await google.colab.output.renderOutput(dataTable, element);\n",
              "        const docLink = document.createElement('div');\n",
              "        docLink.innerHTML = docLinkHtml;\n",
              "        element.appendChild(docLink);\n",
              "      }\n",
              "    </script>\n",
              "  </div>\n",
              "\n",
              "\n",
              "<div id=\"df-ebabe913-634e-4c4a-83de-60ea797e19c3\">\n",
              "  <button class=\"colab-df-quickchart\" onclick=\"quickchart('df-ebabe913-634e-4c4a-83de-60ea797e19c3')\"\n",
              "            title=\"Suggest charts\"\n",
              "            style=\"display:none;\">\n",
              "\n",
              "<svg xmlns=\"http://www.w3.org/2000/svg\" height=\"24px\"viewBox=\"0 0 24 24\"\n",
              "     width=\"24px\">\n",
              "    <g>\n",
              "        <path d=\"M19 3H5c-1.1 0-2 .9-2 2v14c0 1.1.9 2 2 2h14c1.1 0 2-.9 2-2V5c0-1.1-.9-2-2-2zM9 17H7v-7h2v7zm4 0h-2V7h2v10zm4 0h-2v-4h2v4z\"/>\n",
              "    </g>\n",
              "</svg>\n",
              "  </button>\n",
              "\n",
              "<style>\n",
              "  .colab-df-quickchart {\n",
              "      --bg-color: #E8F0FE;\n",
              "      --fill-color: #1967D2;\n",
              "      --hover-bg-color: #E2EBFA;\n",
              "      --hover-fill-color: #174EA6;\n",
              "      --disabled-fill-color: #AAA;\n",
              "      --disabled-bg-color: #DDD;\n",
              "  }\n",
              "\n",
              "  [theme=dark] .colab-df-quickchart {\n",
              "      --bg-color: #3B4455;\n",
              "      --fill-color: #D2E3FC;\n",
              "      --hover-bg-color: #434B5C;\n",
              "      --hover-fill-color: #FFFFFF;\n",
              "      --disabled-bg-color: #3B4455;\n",
              "      --disabled-fill-color: #666;\n",
              "  }\n",
              "\n",
              "  .colab-df-quickchart {\n",
              "    background-color: var(--bg-color);\n",
              "    border: none;\n",
              "    border-radius: 50%;\n",
              "    cursor: pointer;\n",
              "    display: none;\n",
              "    fill: var(--fill-color);\n",
              "    height: 32px;\n",
              "    padding: 0;\n",
              "    width: 32px;\n",
              "  }\n",
              "\n",
              "  .colab-df-quickchart:hover {\n",
              "    background-color: var(--hover-bg-color);\n",
              "    box-shadow: 0 1px 2px rgba(60, 64, 67, 0.3), 0 1px 3px 1px rgba(60, 64, 67, 0.15);\n",
              "    fill: var(--button-hover-fill-color);\n",
              "  }\n",
              "\n",
              "  .colab-df-quickchart-complete:disabled,\n",
              "  .colab-df-quickchart-complete:disabled:hover {\n",
              "    background-color: var(--disabled-bg-color);\n",
              "    fill: var(--disabled-fill-color);\n",
              "    box-shadow: none;\n",
              "  }\n",
              "\n",
              "  .colab-df-spinner {\n",
              "    border: 2px solid var(--fill-color);\n",
              "    border-color: transparent;\n",
              "    border-bottom-color: var(--fill-color);\n",
              "    animation:\n",
              "      spin 1s steps(1) infinite;\n",
              "  }\n",
              "\n",
              "  @keyframes spin {\n",
              "    0% {\n",
              "      border-color: transparent;\n",
              "      border-bottom-color: var(--fill-color);\n",
              "      border-left-color: var(--fill-color);\n",
              "    }\n",
              "    20% {\n",
              "      border-color: transparent;\n",
              "      border-left-color: var(--fill-color);\n",
              "      border-top-color: var(--fill-color);\n",
              "    }\n",
              "    30% {\n",
              "      border-color: transparent;\n",
              "      border-left-color: var(--fill-color);\n",
              "      border-top-color: var(--fill-color);\n",
              "      border-right-color: var(--fill-color);\n",
              "    }\n",
              "    40% {\n",
              "      border-color: transparent;\n",
              "      border-right-color: var(--fill-color);\n",
              "      border-top-color: var(--fill-color);\n",
              "    }\n",
              "    60% {\n",
              "      border-color: transparent;\n",
              "      border-right-color: var(--fill-color);\n",
              "    }\n",
              "    80% {\n",
              "      border-color: transparent;\n",
              "      border-right-color: var(--fill-color);\n",
              "      border-bottom-color: var(--fill-color);\n",
              "    }\n",
              "    90% {\n",
              "      border-color: transparent;\n",
              "      border-bottom-color: var(--fill-color);\n",
              "    }\n",
              "  }\n",
              "</style>\n",
              "\n",
              "  <script>\n",
              "    async function quickchart(key) {\n",
              "      const quickchartButtonEl =\n",
              "        document.querySelector('#' + key + ' button');\n",
              "      quickchartButtonEl.disabled = true;  // To prevent multiple clicks.\n",
              "      quickchartButtonEl.classList.add('colab-df-spinner');\n",
              "      try {\n",
              "        const charts = await google.colab.kernel.invokeFunction(\n",
              "            'suggestCharts', [key], {});\n",
              "      } catch (error) {\n",
              "        console.error('Error during call to suggestCharts:', error);\n",
              "      }\n",
              "      quickchartButtonEl.classList.remove('colab-df-spinner');\n",
              "      quickchartButtonEl.classList.add('colab-df-quickchart-complete');\n",
              "    }\n",
              "    (() => {\n",
              "      let quickchartButtonEl =\n",
              "        document.querySelector('#df-ebabe913-634e-4c4a-83de-60ea797e19c3 button');\n",
              "      quickchartButtonEl.style.display =\n",
              "        google.colab.kernel.accessAllowed ? 'block' : 'none';\n",
              "    })();\n",
              "  </script>\n",
              "</div>\n",
              "    </div>\n",
              "  </div>\n"
            ],
            "application/vnd.google.colaboratory.intrinsic+json": {
              "type": "dataframe",
              "summary": "{\n  \"name\": \"train_df\",\n  \"rows\": 8,\n  \"fields\": [\n    {\n      \"column\": \"DIR\",\n      \"properties\": {\n        \"dtype\": \"number\",\n        \"std\": 116639.03430804276,\n        \"min\": 0.0,\n        \"max\": 332600.27282,\n        \"num_unique_values\": 8,\n        \"samples\": [\n          353.26029282459996,\n          0.36684799999999995,\n          75000.0\n        ],\n        \"semantic_type\": \"\",\n        \"description\": \"\"\n      }\n    },\n    {\n      \"column\": \"Age\",\n      \"properties\": {\n        \"dtype\": \"number\",\n        \"std\": 26498.596810285948,\n        \"min\": 14.869728650448648,\n        \"max\": 75000.0,\n        \"num_unique_values\": 8,\n        \"samples\": [\n          52.59560533333333,\n          52.2,\n          75000.0\n        ],\n        \"semantic_type\": \"\",\n        \"description\": \"\"\n      }\n    },\n    {\n      \"column\": \"NumLoans\",\n      \"properties\": {\n        \"dtype\": \"number\",\n        \"std\": 26511.78237387433,\n        \"min\": 0.0,\n        \"max\": 75000.0,\n        \"num_unique_values\": 8,\n        \"samples\": [\n          8.44976,\n          8.0,\n          75000.0\n        ],\n        \"semantic_type\": \"\",\n        \"description\": \"\"\n      }\n    },\n    {\n      \"column\": \"NumRealEstateLoans\",\n      \"properties\": {\n        \"dtype\": \"number\",\n        \"std\": 26514.630652626016,\n        \"min\": 0.0,\n        \"max\": 75000.0,\n        \"num_unique_values\": 7,\n        \"samples\": [\n          75000.0,\n          1.0166933333333332,\n          2.0\n        ],\n        \"semantic_type\": \"\",\n        \"description\": \"\"\n      }\n    },\n    {\n      \"column\": \"NumDependents\",\n      \"properties\": {\n        \"dtype\": \"number\",\n        \"std\": 25837.94209452591,\n        \"min\": 0.0,\n        \"max\": 73084.0,\n        \"num_unique_values\": 6,\n        \"samples\": [\n          73084.0,\n          0.755965738054841,\n          20.0\n        ],\n        \"semantic_type\": \"\",\n        \"description\": \"\"\n      }\n    },\n    {\n      \"column\": \"Num30-59Delinquencies\",\n      \"properties\": {\n        \"dtype\": \"number\",\n        \"std\": 26511.33878632309,\n        \"min\": 0.0,\n        \"max\": 75000.0,\n        \"num_unique_values\": 5,\n        \"samples\": [\n          0.42832,\n          98.0,\n          4.276439229471928\n        ],\n        \"semantic_type\": \"\",\n        \"description\": \"\"\n      }\n    },\n    {\n      \"column\": \"Num60-89Delinquencies\",\n      \"properties\": {\n        \"dtype\": \"number\",\n        \"std\": 26511.349776247996,\n        \"min\": 0.0,\n        \"max\": 75000.0,\n        \"num_unique_values\": 5,\n        \"samples\": [\n          0.248,\n          98.0,\n          4.239486090305929\n        ],\n        \"semantic_type\": \"\",\n        \"description\": \"\"\n      }\n    },\n    {\n      \"column\": \"Income\",\n      \"properties\": {\n        \"dtype\": \"number\",\n        \"std\": 633696.5208524843,\n        \"min\": 0.0,\n        \"max\": 1805573.35226,\n        \"num_unique_values\": 8,\n        \"samples\": [\n          6740.0592870656155,\n          5424.552473,\n          60153.0\n        ],\n        \"semantic_type\": \"\",\n        \"description\": \"\"\n      }\n    },\n    {\n      \"column\": \"BalanceToCreditLimit\",\n      \"properties\": {\n        \"dtype\": \"number\",\n        \"std\": 29818.589537533702,\n        \"min\": 0.0,\n        \"max\": 75000.0,\n        \"num_unique_values\": 8,\n        \"samples\": [\n          6.276196450786667,\n          0.1537195,\n          75000.0\n        ],\n        \"semantic_type\": \"\",\n        \"description\": \"\"\n      }\n    },\n    {\n      \"column\": \"Delinquent90\",\n      \"properties\": {\n        \"dtype\": \"number\",\n        \"std\": 26516.437799049032,\n        \"min\": 0.0,\n        \"max\": 75000.0,\n        \"num_unique_values\": 5,\n        \"samples\": [\n          0.06684,\n          1.0,\n          0.24974636342353537\n        ],\n        \"semantic_type\": \"\",\n        \"description\": \"\"\n      }\n    }\n  ]\n}"
            }
          },
          "metadata": {},
          "execution_count": 101
        }
      ],
      "source": [
        "train_df.describe()"
      ]
    },
    {
      "cell_type": "code",
      "execution_count": 102,
      "metadata": {
        "colab": {
          "base_uri": "https://localhost:8080/",
          "height": 452
        },
        "id": "TJ9jyaqZBXxt",
        "outputId": "274dc2cd-2f53-403e-9ca1-13db3d112925"
      },
      "outputs": [
        {
          "output_type": "display_data",
          "data": {
            "text/plain": [
              "<Figure size 640x480 with 12 Axes>"
            ],
            "image/png": "[encoded data removed]"
          },
          "metadata": {}
        }
      ],
      "source": [
        "hists = train_df.hist(bins=10)"
      ]
    },
    {
      "cell_type": "markdown",
      "source": [
        "В качестве целевого признака используем колонку `Delinquent90` - просрочившие больше чем на 90 дней."
      ],
      "metadata": {
        "id": "jwELYE5QHMgQ"
      }
    },
    {
      "cell_type": "markdown",
      "source": [
        "Отделите выделите из обучающего датасета целевой признак `y` и матрицу \"объекты-признаки\" `X`:"
      ],
      "metadata": {
        "id": "cNMbNFUzHeYg"
      }
    },
    {
      "cell_type": "code",
      "execution_count": 103,
      "metadata": {
        "id": "pxgR2VEMBXxt"
      },
      "outputs": [],
      "source": [
        "y = train_df['Delinquent90']\n",
        "train_df.drop('Delinquent90', axis=1, inplace=True)"
      ]
    },
    {
      "cell_type": "code",
      "source": [
        "cols = train_df.columns"
      ],
      "metadata": {
        "id": "Xufi0FDu5cKK"
      },
      "execution_count": 104,
      "outputs": []
    },
    {
      "cell_type": "code",
      "source": [
        "cols"
      ],
      "metadata": {
        "colab": {
          "base_uri": "https://localhost:8080/"
        },
        "id": "eJ4sUBhZ5vRu",
        "outputId": "e25cde8e-9ba1-4480-a857-5ef57d870245"
      },
      "execution_count": 105,
      "outputs": [
        {
          "output_type": "execute_result",
          "data": {
            "text/plain": [
              "Index(['DIR', 'Age', 'NumLoans', 'NumRealEstateLoans', 'NumDependents',\n",
              "       'Num30-59Delinquencies', 'Num60-89Delinquencies', 'Income',\n",
              "       'BalanceToCreditLimit'],\n",
              "      dtype='object')"
            ]
          },
          "metadata": {},
          "execution_count": 105
        }
      ]
    },
    {
      "cell_type": "markdown",
      "source": [
        "Посмотрите на количество объектов каждого из классов:"
      ],
      "metadata": {
        "id": "jS_U70wMHtV8"
      }
    },
    {
      "cell_type": "code",
      "source": [
        "# ваш код здесь\n",
        "y.value_counts()"
      ],
      "metadata": {
        "id": "hUqzLKBPHy8e",
        "colab": {
          "base_uri": "https://localhost:8080/"
        },
        "outputId": "6be8ed9e-18eb-4656-a47b-97f12aaf6214"
      },
      "execution_count": 106,
      "outputs": [
        {
          "output_type": "execute_result",
          "data": {
            "text/plain": [
              "Delinquent90\n",
              "0    69987\n",
              "1     5013\n",
              "Name: count, dtype: int64"
            ]
          },
          "metadata": {},
          "execution_count": 106
        }
      ]
    },
    {
      "cell_type": "markdown",
      "source": [
        "- Какие выводы можно сделать?\n",
        "- Какое из значений метрики `accuracy` можно считать за базовое решение, которое будем пытаться побить?\n",
        "- Насколько нам подходит метрика accuracy? Какие знаете более подходящие метрики?"
      ],
      "metadata": {
        "id": "ITlyWesTHzRL"
      }
    },
    {
      "cell_type": "markdown",
      "source": [
        "**Ваши ответы здесь:**\n",
        "\n",
        "1.   классы не сбаланстрованы\n",
        "2.   Базовый уровень accuracy = 0.93316 (69987/75000). Если всегда будем говорить, что не было просрочек, то мы будем правы в 93.316% случаев\n",
        "3. Accuracy не подходит, так как она не показывает насколько правильно аглогрит работает на каждом классе в отдельности. для несбалансированых данных лучше использовать Precision, recall, F-мера b ROC-AUC"
      ],
      "metadata": {
        "id": "xWItm40JILaY"
      }
    },
    {
      "cell_type": "markdown",
      "source": [
        "### Заполнение пропусков - 1 балл"
      ],
      "metadata": {
        "id": "BBa4m9_DIuec"
      }
    },
    {
      "cell_type": "markdown",
      "source": [
        "Продолжим предобработку данных. Посчитайте сколько пропусков в каждом из признаков:"
      ],
      "metadata": {
        "id": "8wHWj1TuIRlq"
      }
    },
    {
      "cell_type": "code",
      "execution_count": 107,
      "metadata": {
        "id": "IQv3K6g1BXxw",
        "colab": {
          "base_uri": "https://localhost:8080/"
        },
        "outputId": "233c1e39-d3ca-445a-cc84-58ec968b76b3"
      },
      "outputs": [
        {
          "output_type": "execute_result",
          "data": {
            "text/plain": [
              "DIR                          0\n",
              "Age                          0\n",
              "NumLoans                     0\n",
              "NumRealEstateLoans           0\n",
              "NumDependents             1916\n",
              "Num30-59Delinquencies        0\n",
              "Num60-89Delinquencies        0\n",
              "Income                   14847\n",
              "BalanceToCreditLimit         0\n",
              "dtype: int64"
            ]
          },
          "metadata": {},
          "execution_count": 107
        }
      ],
      "source": [
        "# ваш код здесь\n",
        "train_df.isna().sum()"
      ]
    },
    {
      "cell_type": "markdown",
      "metadata": {
        "id": "dtoBkFbPBXxw"
      },
      "source": [
        "Заполните пропуски медианными значениями:"
      ]
    },
    {
      "cell_type": "code",
      "execution_count": 108,
      "metadata": {
        "id": "DboZ3O6bBXxw"
      },
      "outputs": [],
      "source": [
        "# ваш код здесь\n",
        "train_df.fillna(train_df.mean(skipna=True, axis=0), inplace=True)"
      ]
    },
    {
      "cell_type": "markdown",
      "source": [
        "Проверьте еще раз количество оставшихся пропусков:"
      ],
      "metadata": {
        "id": "iccuomTTIlwk"
      }
    },
    {
      "cell_type": "code",
      "execution_count": 109,
      "metadata": {
        "id": "k1YWtKwgBXxx",
        "colab": {
          "base_uri": "https://localhost:8080/"
        },
        "outputId": "ea36327f-8ca8-4b6f-e24d-9a4cd91dd16a"
      },
      "outputs": [
        {
          "output_type": "execute_result",
          "data": {
            "text/plain": [
              "DIR                      0\n",
              "Age                      0\n",
              "NumLoans                 0\n",
              "NumRealEstateLoans       0\n",
              "NumDependents            0\n",
              "Num30-59Delinquencies    0\n",
              "Num60-89Delinquencies    0\n",
              "Income                   0\n",
              "BalanceToCreditLimit     0\n",
              "dtype: int64"
            ]
          },
          "metadata": {},
          "execution_count": 109
        }
      ],
      "source": [
        "# ваш код здесь\n",
        "train_df.isna().sum()"
      ]
    },
    {
      "cell_type": "markdown",
      "metadata": {
        "id": "5LnuGihVBXxx"
      },
      "source": [
        "### Нормировка - 1 балл"
      ]
    },
    {
      "cell_type": "markdown",
      "source": [
        "Выполним масштабирование наших признаков так, чтобы их значение находилось в диапазоне `[0, 1]`:"
      ],
      "metadata": {
        "id": "SHYSZxf5JByb"
      }
    },
    {
      "cell_type": "code",
      "source": [
        "train_df.describe()"
      ],
      "metadata": {
        "colab": {
          "base_uri": "https://localhost:8080/",
          "height": 337
        },
        "id": "XLm7I-4ZI5qb",
        "outputId": "6b48f3a3-ef04-496d-f72b-ab2b71f2d6f7"
      },
      "execution_count": 110,
      "outputs": [
        {
          "output_type": "execute_result",
          "data": {
            "text/plain": [
              "                 DIR           Age     NumLoans  NumRealEstateLoans  \\\n",
              "count   75000.000000  75000.000000  75000.00000        75000.000000   \n",
              "mean      353.260293     52.595605      8.44976            1.016693   \n",
              "std      2117.237432     14.869729      5.15644            1.124019   \n",
              "min         0.000000     21.000000      0.00000            0.000000   \n",
              "25%         0.176022     41.300000      5.00000            0.000000   \n",
              "50%         0.366848     52.200000      8.00000            1.000000   \n",
              "75%         0.862650     63.100000     11.00000            2.000000   \n",
              "max    332600.272820    109.800000     56.00000           32.000000   \n",
              "\n",
              "       NumDependents  Num30-59Delinquencies  Num60-89Delinquencies  \\\n",
              "count   75000.000000           75000.000000           75000.000000   \n",
              "mean        0.755966               0.428320               0.248000   \n",
              "std         1.093873               4.276439               4.239486   \n",
              "min         0.000000               0.000000               0.000000   \n",
              "25%         0.000000               0.000000               0.000000   \n",
              "50%         0.000000               0.000000               0.000000   \n",
              "75%         1.000000               0.000000               0.000000   \n",
              "max        20.000000              98.000000              98.000000   \n",
              "\n",
              "             Income  BalanceToCreditLimit  \n",
              "count  7.500000e+04          75000.000000  \n",
              "mean   6.740059e+03              6.276196  \n",
              "std    1.274278e+04            267.743321  \n",
              "min    0.000000e+00              0.000000  \n",
              "25%    3.948961e+03              0.029703  \n",
              "50%    6.603940e+03              0.153720  \n",
              "75%    7.406509e+03              0.560638  \n",
              "max    1.805573e+06          50873.874533  "
            ],
            "text/html": [
              "\n",
              "  <div id=\"df-ec529416-d76a-414c-a6c0-b7195819d70e\" class=\"colab-df-container\">\n",
              "    <div>\n",
              "<style scoped>\n",
              "    .dataframe tbody tr th:only-of-type {\n",
              "        vertical-align: middle;\n",
              "    }\n",
              "\n",
              "    .dataframe tbody tr th {\n",
              "        vertical-align: top;\n",
              "    }\n",
              "\n",
              "    .dataframe thead th {\n",
              "        text-align: right;\n",
              "    }\n",
              "</style>\n",
              "<table border=\"1\" class=\"dataframe\">\n",
              "  <thead>\n",
              "    <tr style=\"text-align: right;\">\n",
              "      <th></th>\n",
              "      <th>DIR</th>\n",
              "      <th>Age</th>\n",
              "      <th>NumLoans</th>\n",
              "      <th>NumRealEstateLoans</th>\n",
              "      <th>NumDependents</th>\n",
              "      <th>Num30-59Delinquencies</th>\n",
              "      <th>Num60-89Delinquencies</th>\n",
              "      <th>Income</th>\n",
              "      <th>BalanceToCreditLimit</th>\n",
              "    </tr>\n",
              "  </thead>\n",
              "  <tbody>\n",
              "    <tr>\n",
              "      <th>count</th>\n",
              "      <td>75000.000000</td>\n",
              "      <td>75000.000000</td>\n",
              "      <td>75000.00000</td>\n",
              "      <td>75000.000000</td>\n",
              "      <td>75000.000000</td>\n",
              "      <td>75000.000000</td>\n",
              "      <td>75000.000000</td>\n",
              "      <td>7.500000e+04</td>\n",
              "      <td>75000.000000</td>\n",
              "    </tr>\n",
              "    <tr>\n",
              "      <th>mean</th>\n",
              "      <td>353.260293</td>\n",
              "      <td>52.595605</td>\n",
              "      <td>8.44976</td>\n",
              "      <td>1.016693</td>\n",
              "      <td>0.755966</td>\n",
              "      <td>0.428320</td>\n",
              "      <td>0.248000</td>\n",
              "      <td>6.740059e+03</td>\n",
              "      <td>6.276196</td>\n",
              "    </tr>\n",
              "    <tr>\n",
              "      <th>std</th>\n",
              "      <td>2117.237432</td>\n",
              "      <td>14.869729</td>\n",
              "      <td>5.15644</td>\n",
              "      <td>1.124019</td>\n",
              "      <td>1.093873</td>\n",
              "      <td>4.276439</td>\n",
              "      <td>4.239486</td>\n",
              "      <td>1.274278e+04</td>\n",
              "      <td>267.743321</td>\n",
              "    </tr>\n",
              "    <tr>\n",
              "      <th>min</th>\n",
              "      <td>0.000000</td>\n",
              "      <td>21.000000</td>\n",
              "      <td>0.00000</td>\n",
              "      <td>0.000000</td>\n",
              "      <td>0.000000</td>\n",
              "      <td>0.000000</td>\n",
              "      <td>0.000000</td>\n",
              "      <td>0.000000e+00</td>\n",
              "      <td>0.000000</td>\n",
              "    </tr>\n",
              "    <tr>\n",
              "      <th>25%</th>\n",
              "      <td>0.176022</td>\n",
              "      <td>41.300000</td>\n",
              "      <td>5.00000</td>\n",
              "      <td>0.000000</td>\n",
              "      <td>0.000000</td>\n",
              "      <td>0.000000</td>\n",
              "      <td>0.000000</td>\n",
              "      <td>3.948961e+03</td>\n",
              "      <td>0.029703</td>\n",
              "    </tr>\n",
              "    <tr>\n",
              "      <th>50%</th>\n",
              "      <td>0.366848</td>\n",
              "      <td>52.200000</td>\n",
              "      <td>8.00000</td>\n",
              "      <td>1.000000</td>\n",
              "      <td>0.000000</td>\n",
              "      <td>0.000000</td>\n",
              "      <td>0.000000</td>\n",
              "      <td>6.603940e+03</td>\n",
              "      <td>0.153720</td>\n",
              "    </tr>\n",
              "    <tr>\n",
              "      <th>75%</th>\n",
              "      <td>0.862650</td>\n",
              "      <td>63.100000</td>\n",
              "      <td>11.00000</td>\n",
              "      <td>2.000000</td>\n",
              "      <td>1.000000</td>\n",
              "      <td>0.000000</td>\n",
              "      <td>0.000000</td>\n",
              "      <td>7.406509e+03</td>\n",
              "      <td>0.560638</td>\n",
              "    </tr>\n",
              "    <tr>\n",
              "      <th>max</th>\n",
              "      <td>332600.272820</td>\n",
              "      <td>109.800000</td>\n",
              "      <td>56.00000</td>\n",
              "      <td>32.000000</td>\n",
              "      <td>20.000000</td>\n",
              "      <td>98.000000</td>\n",
              "      <td>98.000000</td>\n",
              "      <td>1.805573e+06</td>\n",
              "      <td>50873.874533</td>\n",
              "    </tr>\n",
              "  </tbody>\n",
              "</table>\n",
              "</div>\n",
              "    <div class=\"colab-df-buttons\">\n",
              "\n",
              "  <div class=\"colab-df-container\">\n",
              "    <button class=\"colab-df-convert\" onclick=\"convertToInteractive('df-ec529416-d76a-414c-a6c0-b7195819d70e')\"\n",
              "            title=\"Convert this dataframe to an interactive table.\"\n",
              "            style=\"display:none;\">\n",
              "\n",
              "  <svg xmlns=\"http://www.w3.org/2000/svg\" height=\"24px\" viewBox=\"0 -960 960 960\">\n",
              "    <path d=\"M120-120v-720h720v720H120Zm60-500h600v-160H180v160Zm220 220h160v-160H400v160Zm0 220h160v-160H400v160ZM180-400h160v-160H180v160Zm440 0h160v-160H620v160ZM180-180h160v-160H180v160Zm440 0h160v-160H620v160Z\"/>\n",
              "  </svg>\n",
              "    </button>\n",
              "\n",
              "  <style>\n",
              "    .colab-df-container {\n",
              "      display:flex;\n",
              "      gap: 12px;\n",
              "    }\n",
              "\n",
              "    .colab-df-convert {\n",
              "      background-color: #E8F0FE;\n",
              "      border: none;\n",
              "      border-radius: 50%;\n",
              "      cursor: pointer;\n",
              "      display: none;\n",
              "      fill: #1967D2;\n",
              "      height: 32px;\n",
              "      padding: 0 0 0 0;\n",
              "      width: 32px;\n",
              "    }\n",
              "\n",
              "    .colab-df-convert:hover {\n",
              "      background-color: #E2EBFA;\n",
              "      box-shadow: 0px 1px 2px rgba(60, 64, 67, 0.3), 0px 1px 3px 1px rgba(60, 64, 67, 0.15);\n",
              "      fill: #174EA6;\n",
              "    }\n",
              "\n",
              "    .colab-df-buttons div {\n",
              "      margin-bottom: 4px;\n",
              "    }\n",
              "\n",
              "    [theme=dark] .colab-df-convert {\n",
              "      background-color: #3B4455;\n",
              "      fill: #D2E3FC;\n",
              "    }\n",
              "\n",
              "    [theme=dark] .colab-df-convert:hover {\n",
              "      background-color: #434B5C;\n",
              "      box-shadow: 0px 1px 3px 1px rgba(0, 0, 0, 0.15);\n",
              "      filter: drop-shadow(0px 1px 2px rgba(0, 0, 0, 0.3));\n",
              "      fill: #FFFFFF;\n",
              "    }\n",
              "  </style>\n",
              "\n",
              "    <script>\n",
              "      const buttonEl =\n",
              "        document.querySelector('#df-ec529416-d76a-414c-a6c0-b7195819d70e button.colab-df-convert');\n",
              "      buttonEl.style.display =\n",
              "        google.colab.kernel.accessAllowed ? 'block' : 'none';\n",
              "\n",
              "      async function convertToInteractive(key) {\n",
              "        const element = document.querySelector('#df-ec529416-d76a-414c-a6c0-b7195819d70e');\n",
              "        const dataTable =\n",
              "          await google.colab.kernel.invokeFunction('convertToInteractive',\n",
              "                                                    [key], {});\n",
              "        if (!dataTable) return;\n",
              "\n",
              "        const docLinkHtml = 'Like what you see? Visit the ' +\n",
              "          '<a target=\"_blank\" href=https://colab.research.google.com/notebooks/data_table.ipynb>data table notebook</a>'\n",
              "          + ' to learn more about interactive tables.';\n",
              "        element.innerHTML = '';\n",
              "        dataTable['output_type'] = 'display_data';\n",
              "        await google.colab.output.renderOutput(dataTable, element);\n",
              "        const docLink = document.createElement('div');\n",
              "        docLink.innerHTML = docLinkHtml;\n",
              "        element.appendChild(docLink);\n",
              "      }\n",
              "    </script>\n",
              "  </div>\n",
              "\n",
              "\n",
              "<div id=\"df-72693ba9-238c-40e4-bf7d-e78492a1d427\">\n",
              "  <button class=\"colab-df-quickchart\" onclick=\"quickchart('df-72693ba9-238c-40e4-bf7d-e78492a1d427')\"\n",
              "            title=\"Suggest charts\"\n",
              "            style=\"display:none;\">\n",
              "\n",
              "<svg xmlns=\"http://www.w3.org/2000/svg\" height=\"24px\"viewBox=\"0 0 24 24\"\n",
              "     width=\"24px\">\n",
              "    <g>\n",
              "        <path d=\"M19 3H5c-1.1 0-2 .9-2 2v14c0 1.1.9 2 2 2h14c1.1 0 2-.9 2-2V5c0-1.1-.9-2-2-2zM9 17H7v-7h2v7zm4 0h-2V7h2v10zm4 0h-2v-4h2v4z\"/>\n",
              "    </g>\n",
              "</svg>\n",
              "  </button>\n",
              "\n",
              "<style>\n",
              "  .colab-df-quickchart {\n",
              "      --bg-color: #E8F0FE;\n",
              "      --fill-color: #1967D2;\n",
              "      --hover-bg-color: #E2EBFA;\n",
              "      --hover-fill-color: #174EA6;\n",
              "      --disabled-fill-color: #AAA;\n",
              "      --disabled-bg-color: #DDD;\n",
              "  }\n",
              "\n",
              "  [theme=dark] .colab-df-quickchart {\n",
              "      --bg-color: #3B4455;\n",
              "      --fill-color: #D2E3FC;\n",
              "      --hover-bg-color: #434B5C;\n",
              "      --hover-fill-color: #FFFFFF;\n",
              "      --disabled-bg-color: #3B4455;\n",
              "      --disabled-fill-color: #666;\n",
              "  }\n",
              "\n",
              "  .colab-df-quickchart {\n",
              "    background-color: var(--bg-color);\n",
              "    border: none;\n",
              "    border-radius: 50%;\n",
              "    cursor: pointer;\n",
              "    display: none;\n",
              "    fill: var(--fill-color);\n",
              "    height: 32px;\n",
              "    padding: 0;\n",
              "    width: 32px;\n",
              "  }\n",
              "\n",
              "  .colab-df-quickchart:hover {\n",
              "    background-color: var(--hover-bg-color);\n",
              "    box-shadow: 0 1px 2px rgba(60, 64, 67, 0.3), 0 1px 3px 1px rgba(60, 64, 67, 0.15);\n",
              "    fill: var(--button-hover-fill-color);\n",
              "  }\n",
              "\n",
              "  .colab-df-quickchart-complete:disabled,\n",
              "  .colab-df-quickchart-complete:disabled:hover {\n",
              "    background-color: var(--disabled-bg-color);\n",
              "    fill: var(--disabled-fill-color);\n",
              "    box-shadow: none;\n",
              "  }\n",
              "\n",
              "  .colab-df-spinner {\n",
              "    border: 2px solid var(--fill-color);\n",
              "    border-color: transparent;\n",
              "    border-bottom-color: var(--fill-color);\n",
              "    animation:\n",
              "      spin 1s steps(1) infinite;\n",
              "  }\n",
              "\n",
              "  @keyframes spin {\n",
              "    0% {\n",
              "      border-color: transparent;\n",
              "      border-bottom-color: var(--fill-color);\n",
              "      border-left-color: var(--fill-color);\n",
              "    }\n",
              "    20% {\n",
              "      border-color: transparent;\n",
              "      border-left-color: var(--fill-color);\n",
              "      border-top-color: var(--fill-color);\n",
              "    }\n",
              "    30% {\n",
              "      border-color: transparent;\n",
              "      border-left-color: var(--fill-color);\n",
              "      border-top-color: var(--fill-color);\n",
              "      border-right-color: var(--fill-color);\n",
              "    }\n",
              "    40% {\n",
              "      border-color: transparent;\n",
              "      border-right-color: var(--fill-color);\n",
              "      border-top-color: var(--fill-color);\n",
              "    }\n",
              "    60% {\n",
              "      border-color: transparent;\n",
              "      border-right-color: var(--fill-color);\n",
              "    }\n",
              "    80% {\n",
              "      border-color: transparent;\n",
              "      border-right-color: var(--fill-color);\n",
              "      border-bottom-color: var(--fill-color);\n",
              "    }\n",
              "    90% {\n",
              "      border-color: transparent;\n",
              "      border-bottom-color: var(--fill-color);\n",
              "    }\n",
              "  }\n",
              "</style>\n",
              "\n",
              "  <script>\n",
              "    async function quickchart(key) {\n",
              "      const quickchartButtonEl =\n",
              "        document.querySelector('#' + key + ' button');\n",
              "      quickchartButtonEl.disabled = true;  // To prevent multiple clicks.\n",
              "      quickchartButtonEl.classList.add('colab-df-spinner');\n",
              "      try {\n",
              "        const charts = await google.colab.kernel.invokeFunction(\n",
              "            'suggestCharts', [key], {});\n",
              "      } catch (error) {\n",
              "        console.error('Error during call to suggestCharts:', error);\n",
              "      }\n",
              "      quickchartButtonEl.classList.remove('colab-df-spinner');\n",
              "      quickchartButtonEl.classList.add('colab-df-quickchart-complete');\n",
              "    }\n",
              "    (() => {\n",
              "      let quickchartButtonEl =\n",
              "        document.querySelector('#df-72693ba9-238c-40e4-bf7d-e78492a1d427 button');\n",
              "      quickchartButtonEl.style.display =\n",
              "        google.colab.kernel.accessAllowed ? 'block' : 'none';\n",
              "    })();\n",
              "  </script>\n",
              "</div>\n",
              "    </div>\n",
              "  </div>\n"
            ],
            "application/vnd.google.colaboratory.intrinsic+json": {
              "type": "dataframe",
              "summary": "{\n  \"name\": \"train_df\",\n  \"rows\": 8,\n  \"fields\": [\n    {\n      \"column\": \"DIR\",\n      \"properties\": {\n        \"dtype\": \"number\",\n        \"std\": 116639.03430804276,\n        \"min\": 0.0,\n        \"max\": 332600.27282,\n        \"num_unique_values\": 8,\n        \"samples\": [\n          353.26029282459996,\n          0.36684799999999995,\n          75000.0\n        ],\n        \"semantic_type\": \"\",\n        \"description\": \"\"\n      }\n    },\n    {\n      \"column\": \"Age\",\n      \"properties\": {\n        \"dtype\": \"number\",\n        \"std\": 26498.596810285948,\n        \"min\": 14.869728650448648,\n        \"max\": 75000.0,\n        \"num_unique_values\": 8,\n        \"samples\": [\n          52.59560533333333,\n          52.2,\n          75000.0\n        ],\n        \"semantic_type\": \"\",\n        \"description\": \"\"\n      }\n    },\n    {\n      \"column\": \"NumLoans\",\n      \"properties\": {\n        \"dtype\": \"number\",\n        \"std\": 26511.78237387433,\n        \"min\": 0.0,\n        \"max\": 75000.0,\n        \"num_unique_values\": 8,\n        \"samples\": [\n          8.44976,\n          8.0,\n          75000.0\n        ],\n        \"semantic_type\": \"\",\n        \"description\": \"\"\n      }\n    },\n    {\n      \"column\": \"NumRealEstateLoans\",\n      \"properties\": {\n        \"dtype\": \"number\",\n        \"std\": 26514.630652626016,\n        \"min\": 0.0,\n        \"max\": 75000.0,\n        \"num_unique_values\": 7,\n        \"samples\": [\n          75000.0,\n          1.0166933333333332,\n          2.0\n        ],\n        \"semantic_type\": \"\",\n        \"description\": \"\"\n      }\n    },\n    {\n      \"column\": \"NumDependents\",\n      \"properties\": {\n        \"dtype\": \"number\",\n        \"std\": 26515.351087433504,\n        \"min\": 0.0,\n        \"max\": 75000.0,\n        \"num_unique_values\": 6,\n        \"samples\": [\n          75000.0,\n          0.755965738054841,\n          20.0\n        ],\n        \"semantic_type\": \"\",\n        \"description\": \"\"\n      }\n    },\n    {\n      \"column\": \"Num30-59Delinquencies\",\n      \"properties\": {\n        \"dtype\": \"number\",\n        \"std\": 26511.33878632309,\n        \"min\": 0.0,\n        \"max\": 75000.0,\n        \"num_unique_values\": 5,\n        \"samples\": [\n          0.42832,\n          98.0,\n          4.276439229471928\n        ],\n        \"semantic_type\": \"\",\n        \"description\": \"\"\n      }\n    },\n    {\n      \"column\": \"Num60-89Delinquencies\",\n      \"properties\": {\n        \"dtype\": \"number\",\n        \"std\": 26511.349776247996,\n        \"min\": 0.0,\n        \"max\": 75000.0,\n        \"num_unique_values\": 5,\n        \"samples\": [\n          0.248,\n          98.0,\n          4.239486090305929\n        ],\n        \"semantic_type\": \"\",\n        \"description\": \"\"\n      }\n    },\n    {\n      \"column\": \"Income\",\n      \"properties\": {\n        \"dtype\": \"number\",\n        \"std\": 633154.6887314565,\n        \"min\": 0.0,\n        \"max\": 1805573.35226,\n        \"num_unique_values\": 8,\n        \"samples\": [\n          6740.059287065616,\n          6603.939518,\n          75000.0\n        ],\n        \"semantic_type\": \"\",\n        \"description\": \"\"\n      }\n    },\n    {\n      \"column\": \"BalanceToCreditLimit\",\n      \"properties\": {\n        \"dtype\": \"number\",\n        \"std\": 29818.589537533702,\n        \"min\": 0.0,\n        \"max\": 75000.0,\n        \"num_unique_values\": 8,\n        \"samples\": [\n          6.276196450786667,\n          0.1537195,\n          75000.0\n        ],\n        \"semantic_type\": \"\",\n        \"description\": \"\"\n      }\n    }\n  ]\n}"
            }
          },
          "metadata": {},
          "execution_count": 110
        }
      ]
    },
    {
      "cell_type": "code",
      "execution_count": 111,
      "metadata": {
        "id": "DbIeJ8v4BXxy"
      },
      "outputs": [],
      "source": [
        "from sklearn.preprocessing import MinMaxScaler\n",
        "scaler = MinMaxScaler()\n",
        "train_df = scaler.fit_transform(train_df)\n",
        "\n",
        "# трансформируйте все признаки, если затрудняетесь - посмотрите в документации sklearn"
      ]
    },
    {
      "cell_type": "markdown",
      "source": [
        "Удостоверьтесь, что теперь значения всех признаков находятся в диапазоне `[0,1]`:"
      ],
      "metadata": {
        "id": "NyiCzRjiJjET"
      }
    },
    {
      "cell_type": "code",
      "execution_count": 112,
      "metadata": {
        "id": "v9WiWRvdBXxy",
        "colab": {
          "base_uri": "https://localhost:8080/",
          "height": 337
        },
        "outputId": "8762efbb-45bb-48bb-a4c7-5cddcf0d7db3"
      },
      "outputs": [
        {
          "output_type": "execute_result",
          "data": {
            "text/plain": [
              "                DIR           Age      NumLoans  NumRealEstateLoans  \\\n",
              "count  7.500000e+04  75000.000000  75000.000000        75000.000000   \n",
              "mean   1.062117e-03      0.355806      0.150889            0.031772   \n",
              "std    6.365712e-03      0.167452      0.092079            0.035126   \n",
              "min    0.000000e+00      0.000000      0.000000            0.000000   \n",
              "25%    5.292291e-07      0.228604      0.089286            0.000000   \n",
              "50%    1.102970e-06      0.351351      0.142857            0.031250   \n",
              "75%    2.593654e-06      0.474099      0.196429            0.062500   \n",
              "max    1.000000e+00      1.000000      1.000000            1.000000   \n",
              "\n",
              "       NumDependents  Num30-59Delinquencies  Num60-89Delinquencies  \\\n",
              "count   75000.000000           75000.000000           75000.000000   \n",
              "mean        0.037798               0.004371               0.002531   \n",
              "std         0.054694               0.043637               0.043260   \n",
              "min         0.000000               0.000000               0.000000   \n",
              "25%         0.000000               0.000000               0.000000   \n",
              "50%         0.000000               0.000000               0.000000   \n",
              "75%         0.050000               0.000000               0.000000   \n",
              "max         1.000000               1.000000               1.000000   \n",
              "\n",
              "             Income  BalanceToCreditLimit  \n",
              "count  75000.000000          7.500000e+04  \n",
              "mean       0.003733          1.233678e-04  \n",
              "std        0.007057          5.262884e-03  \n",
              "min        0.000000          0.000000e+00  \n",
              "25%        0.002187          5.838557e-07  \n",
              "50%        0.003658          3.021580e-06  \n",
              "75%        0.004102          1.102015e-05  \n",
              "max        1.000000          1.000000e+00  "
            ],
            "text/html": [
              "\n",
              "  <div id=\"df-a3ba439d-1a40-4de6-b1e6-5d432c54cacc\" class=\"colab-df-container\">\n",
              "    <div>\n",
              "<style scoped>\n",
              "    .dataframe tbody tr th:only-of-type {\n",
              "        vertical-align: middle;\n",
              "    }\n",
              "\n",
              "    .dataframe tbody tr th {\n",
              "        vertical-align: top;\n",
              "    }\n",
              "\n",
              "    .dataframe thead th {\n",
              "        text-align: right;\n",
              "    }\n",
              "</style>\n",
              "<table border=\"1\" class=\"dataframe\">\n",
              "  <thead>\n",
              "    <tr style=\"text-align: right;\">\n",
              "      <th></th>\n",
              "      <th>DIR</th>\n",
              "      <th>Age</th>\n",
              "      <th>NumLoans</th>\n",
              "      <th>NumRealEstateLoans</th>\n",
              "      <th>NumDependents</th>\n",
              "      <th>Num30-59Delinquencies</th>\n",
              "      <th>Num60-89Delinquencies</th>\n",
              "      <th>Income</th>\n",
              "      <th>BalanceToCreditLimit</th>\n",
              "    </tr>\n",
              "  </thead>\n",
              "  <tbody>\n",
              "    <tr>\n",
              "      <th>count</th>\n",
              "      <td>7.500000e+04</td>\n",
              "      <td>75000.000000</td>\n",
              "      <td>75000.000000</td>\n",
              "      <td>75000.000000</td>\n",
              "      <td>75000.000000</td>\n",
              "      <td>75000.000000</td>\n",
              "      <td>75000.000000</td>\n",
              "      <td>75000.000000</td>\n",
              "      <td>7.500000e+04</td>\n",
              "    </tr>\n",
              "    <tr>\n",
              "      <th>mean</th>\n",
              "      <td>1.062117e-03</td>\n",
              "      <td>0.355806</td>\n",
              "      <td>0.150889</td>\n",
              "      <td>0.031772</td>\n",
              "      <td>0.037798</td>\n",
              "      <td>0.004371</td>\n",
              "      <td>0.002531</td>\n",
              "      <td>0.003733</td>\n",
              "      <td>1.233678e-04</td>\n",
              "    </tr>\n",
              "    <tr>\n",
              "      <th>std</th>\n",
              "      <td>6.365712e-03</td>\n",
              "      <td>0.167452</td>\n",
              "      <td>0.092079</td>\n",
              "      <td>0.035126</td>\n",
              "      <td>0.054694</td>\n",
              "      <td>0.043637</td>\n",
              "      <td>0.043260</td>\n",
              "      <td>0.007057</td>\n",
              "      <td>5.262884e-03</td>\n",
              "    </tr>\n",
              "    <tr>\n",
              "      <th>min</th>\n",
              "      <td>0.000000e+00</td>\n",
              "      <td>0.000000</td>\n",
              "      <td>0.000000</td>\n",
              "      <td>0.000000</td>\n",
              "      <td>0.000000</td>\n",
              "      <td>0.000000</td>\n",
              "      <td>0.000000</td>\n",
              "      <td>0.000000</td>\n",
              "      <td>0.000000e+00</td>\n",
              "    </tr>\n",
              "    <tr>\n",
              "      <th>25%</th>\n",
              "      <td>5.292291e-07</td>\n",
              "      <td>0.228604</td>\n",
              "      <td>0.089286</td>\n",
              "      <td>0.000000</td>\n",
              "      <td>0.000000</td>\n",
              "      <td>0.000000</td>\n",
              "      <td>0.000000</td>\n",
              "      <td>0.002187</td>\n",
              "      <td>5.838557e-07</td>\n",
              "    </tr>\n",
              "    <tr>\n",
              "      <th>50%</th>\n",
              "      <td>1.102970e-06</td>\n",
              "      <td>0.351351</td>\n",
              "      <td>0.142857</td>\n",
              "      <td>0.031250</td>\n",
              "      <td>0.000000</td>\n",
              "      <td>0.000000</td>\n",
              "      <td>0.000000</td>\n",
              "      <td>0.003658</td>\n",
              "      <td>3.021580e-06</td>\n",
              "    </tr>\n",
              "    <tr>\n",
              "      <th>75%</th>\n",
              "      <td>2.593654e-06</td>\n",
              "      <td>0.474099</td>\n",
              "      <td>0.196429</td>\n",
              "      <td>0.062500</td>\n",
              "      <td>0.050000</td>\n",
              "      <td>0.000000</td>\n",
              "      <td>0.000000</td>\n",
              "      <td>0.004102</td>\n",
              "      <td>1.102015e-05</td>\n",
              "    </tr>\n",
              "    <tr>\n",
              "      <th>max</th>\n",
              "      <td>1.000000e+00</td>\n",
              "      <td>1.000000</td>\n",
              "      <td>1.000000</td>\n",
              "      <td>1.000000</td>\n",
              "      <td>1.000000</td>\n",
              "      <td>1.000000</td>\n",
              "      <td>1.000000</td>\n",
              "      <td>1.000000</td>\n",
              "      <td>1.000000e+00</td>\n",
              "    </tr>\n",
              "  </tbody>\n",
              "</table>\n",
              "</div>\n",
              "    <div class=\"colab-df-buttons\">\n",
              "\n",
              "  <div class=\"colab-df-container\">\n",
              "    <button class=\"colab-df-convert\" onclick=\"convertToInteractive('df-a3ba439d-1a40-4de6-b1e6-5d432c54cacc')\"\n",
              "            title=\"Convert this dataframe to an interactive table.\"\n",
              "            style=\"display:none;\">\n",
              "\n",
              "  <svg xmlns=\"http://www.w3.org/2000/svg\" height=\"24px\" viewBox=\"0 -960 960 960\">\n",
              "    <path d=\"M120-120v-720h720v720H120Zm60-500h600v-160H180v160Zm220 220h160v-160H400v160Zm0 220h160v-160H400v160ZM180-400h160v-160H180v160Zm440 0h160v-160H620v160ZM180-180h160v-160H180v160Zm440 0h160v-160H620v160Z\"/>\n",
              "  </svg>\n",
              "    </button>\n",
              "\n",
              "  <style>\n",
              "    .colab-df-container {\n",
              "      display:flex;\n",
              "      gap: 12px;\n",
              "    }\n",
              "\n",
              "    .colab-df-convert {\n",
              "      background-color: #E8F0FE;\n",
              "      border: none;\n",
              "      border-radius: 50%;\n",
              "      cursor: pointer;\n",
              "      display: none;\n",
              "      fill: #1967D2;\n",
              "      height: 32px;\n",
              "      padding: 0 0 0 0;\n",
              "      width: 32px;\n",
              "    }\n",
              "\n",
              "    .colab-df-convert:hover {\n",
              "      background-color: #E2EBFA;\n",
              "      box-shadow: 0px 1px 2px rgba(60, 64, 67, 0.3), 0px 1px 3px 1px rgba(60, 64, 67, 0.15);\n",
              "      fill: #174EA6;\n",
              "    }\n",
              "\n",
              "    .colab-df-buttons div {\n",
              "      margin-bottom: 4px;\n",
              "    }\n",
              "\n",
              "    [theme=dark] .colab-df-convert {\n",
              "      background-color: #3B4455;\n",
              "      fill: #D2E3FC;\n",
              "    }\n",
              "\n",
              "    [theme=dark] .colab-df-convert:hover {\n",
              "      background-color: #434B5C;\n",
              "      box-shadow: 0px 1px 3px 1px rgba(0, 0, 0, 0.15);\n",
              "      filter: drop-shadow(0px 1px 2px rgba(0, 0, 0, 0.3));\n",
              "      fill: #FFFFFF;\n",
              "    }\n",
              "  </style>\n",
              "\n",
              "    <script>\n",
              "      const buttonEl =\n",
              "        document.querySelector('#df-a3ba439d-1a40-4de6-b1e6-5d432c54cacc button.colab-df-convert');\n",
              "      buttonEl.style.display =\n",
              "        google.colab.kernel.accessAllowed ? 'block' : 'none';\n",
              "\n",
              "      async function convertToInteractive(key) {\n",
              "        const element = document.querySelector('#df-a3ba439d-1a40-4de6-b1e6-5d432c54cacc');\n",
              "        const dataTable =\n",
              "          await google.colab.kernel.invokeFunction('convertToInteractive',\n",
              "                                                    [key], {});\n",
              "        if (!dataTable) return;\n",
              "\n",
              "        const docLinkHtml = 'Like what you see? Visit the ' +\n",
              "          '<a target=\"_blank\" href=https://colab.research.google.com/notebooks/data_table.ipynb>data table notebook</a>'\n",
              "          + ' to learn more about interactive tables.';\n",
              "        element.innerHTML = '';\n",
              "        dataTable['output_type'] = 'display_data';\n",
              "        await google.colab.output.renderOutput(dataTable, element);\n",
              "        const docLink = document.createElement('div');\n",
              "        docLink.innerHTML = docLinkHtml;\n",
              "        element.appendChild(docLink);\n",
              "      }\n",
              "    </script>\n",
              "  </div>\n",
              "\n",
              "\n",
              "<div id=\"df-ac27ad2f-5cdc-4dcd-9d02-0e331ed6deb4\">\n",
              "  <button class=\"colab-df-quickchart\" onclick=\"quickchart('df-ac27ad2f-5cdc-4dcd-9d02-0e331ed6deb4')\"\n",
              "            title=\"Suggest charts\"\n",
              "            style=\"display:none;\">\n",
              "\n",
              "<svg xmlns=\"http://www.w3.org/2000/svg\" height=\"24px\"viewBox=\"0 0 24 24\"\n",
              "     width=\"24px\">\n",
              "    <g>\n",
              "        <path d=\"M19 3H5c-1.1 0-2 .9-2 2v14c0 1.1.9 2 2 2h14c1.1 0 2-.9 2-2V5c0-1.1-.9-2-2-2zM9 17H7v-7h2v7zm4 0h-2V7h2v10zm4 0h-2v-4h2v4z\"/>\n",
              "    </g>\n",
              "</svg>\n",
              "  </button>\n",
              "\n",
              "<style>\n",
              "  .colab-df-quickchart {\n",
              "      --bg-color: #E8F0FE;\n",
              "      --fill-color: #1967D2;\n",
              "      --hover-bg-color: #E2EBFA;\n",
              "      --hover-fill-color: #174EA6;\n",
              "      --disabled-fill-color: #AAA;\n",
              "      --disabled-bg-color: #DDD;\n",
              "  }\n",
              "\n",
              "  [theme=dark] .colab-df-quickchart {\n",
              "      --bg-color: #3B4455;\n",
              "      --fill-color: #D2E3FC;\n",
              "      --hover-bg-color: #434B5C;\n",
              "      --hover-fill-color: #FFFFFF;\n",
              "      --disabled-bg-color: #3B4455;\n",
              "      --disabled-fill-color: #666;\n",
              "  }\n",
              "\n",
              "  .colab-df-quickchart {\n",
              "    background-color: var(--bg-color);\n",
              "    border: none;\n",
              "    border-radius: 50%;\n",
              "    cursor: pointer;\n",
              "    display: none;\n",
              "    fill: var(--fill-color);\n",
              "    height: 32px;\n",
              "    padding: 0;\n",
              "    width: 32px;\n",
              "  }\n",
              "\n",
              "  .colab-df-quickchart:hover {\n",
              "    background-color: var(--hover-bg-color);\n",
              "    box-shadow: 0 1px 2px rgba(60, 64, 67, 0.3), 0 1px 3px 1px rgba(60, 64, 67, 0.15);\n",
              "    fill: var(--button-hover-fill-color);\n",
              "  }\n",
              "\n",
              "  .colab-df-quickchart-complete:disabled,\n",
              "  .colab-df-quickchart-complete:disabled:hover {\n",
              "    background-color: var(--disabled-bg-color);\n",
              "    fill: var(--disabled-fill-color);\n",
              "    box-shadow: none;\n",
              "  }\n",
              "\n",
              "  .colab-df-spinner {\n",
              "    border: 2px solid var(--fill-color);\n",
              "    border-color: transparent;\n",
              "    border-bottom-color: var(--fill-color);\n",
              "    animation:\n",
              "      spin 1s steps(1) infinite;\n",
              "  }\n",
              "\n",
              "  @keyframes spin {\n",
              "    0% {\n",
              "      border-color: transparent;\n",
              "      border-bottom-color: var(--fill-color);\n",
              "      border-left-color: var(--fill-color);\n",
              "    }\n",
              "    20% {\n",
              "      border-color: transparent;\n",
              "      border-left-color: var(--fill-color);\n",
              "      border-top-color: var(--fill-color);\n",
              "    }\n",
              "    30% {\n",
              "      border-color: transparent;\n",
              "      border-left-color: var(--fill-color);\n",
              "      border-top-color: var(--fill-color);\n",
              "      border-right-color: var(--fill-color);\n",
              "    }\n",
              "    40% {\n",
              "      border-color: transparent;\n",
              "      border-right-color: var(--fill-color);\n",
              "      border-top-color: var(--fill-color);\n",
              "    }\n",
              "    60% {\n",
              "      border-color: transparent;\n",
              "      border-right-color: var(--fill-color);\n",
              "    }\n",
              "    80% {\n",
              "      border-color: transparent;\n",
              "      border-right-color: var(--fill-color);\n",
              "      border-bottom-color: var(--fill-color);\n",
              "    }\n",
              "    90% {\n",
              "      border-color: transparent;\n",
              "      border-bottom-color: var(--fill-color);\n",
              "    }\n",
              "  }\n",
              "</style>\n",
              "\n",
              "  <script>\n",
              "    async function quickchart(key) {\n",
              "      const quickchartButtonEl =\n",
              "        document.querySelector('#' + key + ' button');\n",
              "      quickchartButtonEl.disabled = true;  // To prevent multiple clicks.\n",
              "      quickchartButtonEl.classList.add('colab-df-spinner');\n",
              "      try {\n",
              "        const charts = await google.colab.kernel.invokeFunction(\n",
              "            'suggestCharts', [key], {});\n",
              "      } catch (error) {\n",
              "        console.error('Error during call to suggestCharts:', error);\n",
              "      }\n",
              "      quickchartButtonEl.classList.remove('colab-df-spinner');\n",
              "      quickchartButtonEl.classList.add('colab-df-quickchart-complete');\n",
              "    }\n",
              "    (() => {\n",
              "      let quickchartButtonEl =\n",
              "        document.querySelector('#df-ac27ad2f-5cdc-4dcd-9d02-0e331ed6deb4 button');\n",
              "      quickchartButtonEl.style.display =\n",
              "        google.colab.kernel.accessAllowed ? 'block' : 'none';\n",
              "    })();\n",
              "  </script>\n",
              "</div>\n",
              "    </div>\n",
              "  </div>\n"
            ],
            "application/vnd.google.colaboratory.intrinsic+json": {
              "type": "dataframe",
              "summary": "{\n  \"name\": \"pd\",\n  \"rows\": 8,\n  \"fields\": [\n    {\n      \"column\": \"DIR\",\n      \"properties\": {\n        \"dtype\": \"number\",\n        \"std\": 26516.45341379618,\n        \"min\": 0.0,\n        \"max\": 75000.0,\n        \"num_unique_values\": 8,\n        \"samples\": [\n          0.0010621166658386389,\n          1.1029696304504672e-06,\n          75000.0\n        ],\n        \"semantic_type\": \"\",\n        \"description\": \"\"\n      }\n    },\n    {\n      \"column\": \"Age\",\n      \"properties\": {\n        \"dtype\": \"number\",\n        \"std\": 26516.374122198547,\n        \"min\": 0.0,\n        \"max\": 75000.0,\n        \"num_unique_values\": 8,\n        \"samples\": [\n          0.3558063663663664,\n          0.3513513513513514,\n          75000.0\n        ],\n        \"semantic_type\": \"\",\n        \"description\": \"\"\n      }\n    },\n    {\n      \"column\": \"NumLoans\",\n      \"properties\": {\n        \"dtype\": \"number\",\n        \"std\": 26516.419870895752,\n        \"min\": 0.0,\n        \"max\": 75000.0,\n        \"num_unique_values\": 8,\n        \"samples\": [\n          0.1508885714285714,\n          0.14285714285714285,\n          75000.0\n        ],\n        \"semantic_type\": \"\",\n        \"description\": \"\"\n      }\n    },\n    {\n      \"column\": \"NumRealEstateLoans\",\n      \"properties\": {\n        \"dtype\": \"number\",\n        \"std\": 26516.445675151284,\n        \"min\": 0.0,\n        \"max\": 75000.0,\n        \"num_unique_values\": 7,\n        \"samples\": [\n          75000.0,\n          0.03177166666666666,\n          0.0625\n        ],\n        \"semantic_type\": \"\",\n        \"description\": \"\"\n      }\n    },\n    {\n      \"column\": \"NumDependents\",\n      \"properties\": {\n        \"dtype\": \"number\",\n        \"std\": 26516.44659214899,\n        \"min\": 0.0,\n        \"max\": 75000.0,\n        \"num_unique_values\": 6,\n        \"samples\": [\n          75000.0,\n          0.03779828690274205,\n          1.0\n        ],\n        \"semantic_type\": \"\",\n        \"description\": \"\"\n      }\n    },\n    {\n      \"column\": \"Num30-59Delinquencies\",\n      \"properties\": {\n        \"dtype\": \"number\",\n        \"std\": 26516.451364387172,\n        \"min\": 0.0,\n        \"max\": 75000.0,\n        \"num_unique_values\": 5,\n        \"samples\": [\n          0.004370612244897958,\n          0.9999999999999999,\n          0.043637134994611484\n        ],\n        \"semantic_type\": \"\",\n        \"description\": \"\"\n      }\n    },\n    {\n      \"column\": \"Num60-89Delinquencies\",\n      \"properties\": {\n        \"dtype\": \"number\",\n        \"std\": 26516.451476367925,\n        \"min\": 0.0,\n        \"max\": 75000.0,\n        \"num_unique_values\": 5,\n        \"samples\": [\n          0.0025306122448979585,\n          0.9999999999999999,\n          0.04326006214597889\n        ],\n        \"semantic_type\": \"\",\n        \"description\": \"\"\n      }\n    },\n    {\n      \"column\": \"Income\",\n      \"properties\": {\n        \"dtype\": \"number\",\n        \"std\": 26516.45274178262,\n        \"min\": 0.0,\n        \"max\": 75000.0,\n        \"num_unique_values\": 8,\n        \"samples\": [\n          0.0037329191188102207,\n          0.00365753045132948,\n          75000.0\n        ],\n        \"semantic_type\": \"\",\n        \"description\": \"\"\n      }\n    },\n    {\n      \"column\": \"BalanceToCreditLimit\",\n      \"properties\": {\n        \"dtype\": \"number\",\n        \"std\": 26516.453516387613,\n        \"min\": 0.0,\n        \"max\": 75000.0,\n        \"num_unique_values\": 8,\n        \"samples\": [\n          0.00012336776996836618,\n          3.021580357522953e-06,\n          75000.0\n        ],\n        \"semantic_type\": \"\",\n        \"description\": \"\"\n      }\n    }\n  ]\n}"
            }
          },
          "metadata": {},
          "execution_count": 112
        }
      ],
      "source": [
        "# ваш код здесь\n",
        "\n",
        "pd.DataFrame(train_df,columns=cols).describe()"
      ]
    },
    {
      "cell_type": "code",
      "source": [
        "from sklearn import metrics\n",
        "\n",
        "def print_scores(y,y_pred):\n",
        "    print(f'f1_score {metrics.f1_score(y,y_pred)}')\n",
        "    print(f'accuracy_score {metrics.accuracy_score(y,y_pred)}')\n",
        "    print(f'roc_auc_score {metrics.roc_auc_score(y,y_pred)}')\n",
        "    print(f'mean_squared_error {metrics.mean_squared_error(y,y_pred)}')"
      ],
      "metadata": {
        "id": "QumoPoAFld2Q"
      },
      "execution_count": 113,
      "outputs": []
    },
    {
      "cell_type": "markdown",
      "source": [
        "# Обучение моделей"
      ],
      "metadata": {
        "id": "Q2TDAIUpJuqs"
      }
    },
    {
      "cell_type": "markdown",
      "metadata": {
        "id": "7g813UqqBXxz"
      },
      "source": [
        "## Дерево решений - 2 балла"
      ]
    },
    {
      "cell_type": "markdown",
      "source": [
        "Обучите решающее дерево, значения гиперпараметров выберите на ваш вкус, подбирать их не нужно:"
      ],
      "metadata": {
        "id": "f56eqFsZJ37x"
      }
    },
    {
      "cell_type": "code",
      "execution_count": 114,
      "metadata": {
        "id": "nDgfCvWLBXxz",
        "colab": {
          "base_uri": "https://localhost:8080/",
          "height": 74
        },
        "outputId": "40210543-3b3b-4433-8fc5-e5583f447b1a"
      },
      "outputs": [
        {
          "output_type": "execute_result",
          "data": {
            "text/plain": [
              "DecisionTreeClassifier()"
            ],
            "text/html": [
              "<style>#sk-container-id-11 {color: black;background-color: white;}#sk-container-id-11 pre{padding: 0;}#sk-container-id-11 div.sk-toggleable {background-color: white;}#sk-container-id-11 label.sk-toggleable__label {cursor: pointer;display: block;width: 100%;margin-bottom: 0;padding: 0.3em;box-sizing: border-box;text-align: center;}#sk-container-id-11 label.sk-toggleable__label-arrow:before {content: \"▸\";float: left;margin-right: 0.25em;color: #696969;}#sk-container-id-11 label.sk-toggleable__label-arrow:hover:before {color: black;}#sk-container-id-11 div.sk-estimator:hover label.sk-toggleable__label-arrow:before {color: black;}#sk-container-id-11 div.sk-toggleable__content {max-height: 0;max-width: 0;overflow: hidden;text-align: left;background-color: #f0f8ff;}#sk-container-id-11 div.sk-toggleable__content pre {margin: 0.2em;color: black;border-radius: 0.25em;background-color: #f0f8ff;}#sk-container-id-11 input.sk-toggleable__control:checked~div.sk-toggleable__content {max-height: 200px;max-width: 100%;overflow: auto;}#sk-container-id-11 input.sk-toggleable__control:checked~label.sk-toggleable__label-arrow:before {content: \"▾\";}#sk-container-id-11 div.sk-estimator input.sk-toggleable__control:checked~label.sk-toggleable__label {background-color: #d4ebff;}#sk-container-id-11 div.sk-label input.sk-toggleable__control:checked~label.sk-toggleable__label {background-color: #d4ebff;}#sk-container-id-11 input.sk-hidden--visually {border: 0;clip: rect(1px 1px 1px 1px);clip: rect(1px, 1px, 1px, 1px);height: 1px;margin: -1px;overflow: hidden;padding: 0;position: absolute;width: 1px;}#sk-container-id-11 div.sk-estimator {font-family: monospace;background-color: #f0f8ff;border: 1px dotted black;border-radius: 0.25em;box-sizing: border-box;margin-bottom: 0.5em;}#sk-container-id-11 div.sk-estimator:hover {background-color: #d4ebff;}#sk-container-id-11 div.sk-parallel-item::after {content: \"\";width: 100%;border-bottom: 1px solid gray;flex-grow: 1;}#sk-container-id-11 div.sk-label:hover label.sk-toggleable__label {background-color: #d4ebff;}#sk-container-id-11 div.sk-serial::before {content: \"\";position: absolute;border-left: 1px solid gray;box-sizing: border-box;top: 0;bottom: 0;left: 50%;z-index: 0;}#sk-container-id-11 div.sk-serial {display: flex;flex-direction: column;align-items: center;background-color: white;padding-right: 0.2em;padding-left: 0.2em;position: relative;}#sk-container-id-11 div.sk-item {position: relative;z-index: 1;}#sk-container-id-11 div.sk-parallel {display: flex;align-items: stretch;justify-content: center;background-color: white;position: relative;}#sk-container-id-11 div.sk-item::before, #sk-container-id-11 div.sk-parallel-item::before {content: \"\";position: absolute;border-left: 1px solid gray;box-sizing: border-box;top: 0;bottom: 0;left: 50%;z-index: -1;}#sk-container-id-11 div.sk-parallel-item {display: flex;flex-direction: column;z-index: 1;position: relative;background-color: white;}#sk-container-id-11 div.sk-parallel-item:first-child::after {align-self: flex-end;width: 50%;}#sk-container-id-11 div.sk-parallel-item:last-child::after {align-self: flex-start;width: 50%;}#sk-container-id-11 div.sk-parallel-item:only-child::after {width: 0;}#sk-container-id-11 div.sk-dashed-wrapped {border: 1px dashed gray;margin: 0 0.4em 0.5em 0.4em;box-sizing: border-box;padding-bottom: 0.4em;background-color: white;}#sk-container-id-11 div.sk-label label {font-family: monospace;font-weight: bold;display: inline-block;line-height: 1.2em;}#sk-container-id-11 div.sk-label-container {text-align: center;}#sk-container-id-11 div.sk-container {/* jupyter's `normalize.less` sets `[hidden] { display: none; }` but bootstrap.min.css set `[hidden] { display: none !important; }` so we also need the `!important` here to be able to override the default hidden behavior on the sphinx rendered scikit-learn.org. See: https://github.com/scikit-learn/scikit-learn/issues/21755 */display: inline-block !important;position: relative;}#sk-container-id-11 div.sk-text-repr-fallback {display: none;}</style><div id=\"sk-container-id-11\" class=\"sk-top-container\"><div class=\"sk-text-repr-fallback\"><pre>DecisionTreeClassifier()</pre><b>In a Jupyter environment, please rerun this cell to show the HTML representation or trust the notebook. <br />On GitHub, the HTML representation is unable to render, please try loading this page with nbviewer.org.</b></div><div class=\"sk-container\" hidden><div class=\"sk-item\"><div class=\"sk-estimator sk-toggleable\"><input class=\"sk-toggleable__control sk-hidden--visually\" id=\"sk-estimator-id-11\" type=\"checkbox\" checked><label for=\"sk-estimator-id-11\" class=\"sk-toggleable__label sk-toggleable__label-arrow\">DecisionTreeClassifier</label><div class=\"sk-toggleable__content\"><pre>DecisionTreeClassifier()</pre></div></div></div></div></div>"
            ]
          },
          "metadata": {},
          "execution_count": 114
        }
      ],
      "source": [
        "from sklearn.model_selection import train_test_split\n",
        "X_train, X_test, y_train, y_test = train_test_split(train_df, y, test_size = 0.3)\n",
        "\n",
        "from sklearn.tree import DecisionTreeClassifier\n",
        "clf_model = DecisionTreeClassifier()\n",
        "clf_model.fit(X_train,y_train)"
      ]
    },
    {
      "cell_type": "code",
      "source": [
        "X_train.shape"
      ],
      "metadata": {
        "colab": {
          "base_uri": "https://localhost:8080/"
        },
        "id": "TqFKQl5qmxId",
        "outputId": "1fc3b5ec-425f-4afd-de37-532293c05d78"
      },
      "execution_count": 129,
      "outputs": [
        {
          "output_type": "execute_result",
          "data": {
            "text/plain": [
              "(52500, 9)"
            ]
          },
          "metadata": {},
          "execution_count": 129
        }
      ]
    },
    {
      "cell_type": "markdown",
      "source": [
        "Получите предсказания вашей модели и проверьте как она обучилась с помощью метрик `f1_score`, `accuracy_score`, `roc_auc_score`, `mean_squared_error`:"
      ],
      "metadata": {
        "id": "YenXpEVRKM2k"
      }
    },
    {
      "cell_type": "code",
      "source": [
        "y_predict = clf_model.predict(X_test)"
      ],
      "metadata": {
        "id": "iU-5Ijhz8yo1"
      },
      "execution_count": 115,
      "outputs": []
    },
    {
      "cell_type": "code",
      "execution_count": 117,
      "metadata": {
        "id": "cMvhaTjcBXxz",
        "colab": {
          "base_uri": "https://localhost:8080/"
        },
        "outputId": "d57ae925-2e51-4efb-d419-e83a425997fc"
      },
      "outputs": [
        {
          "output_type": "stream",
          "name": "stdout",
          "text": [
            "f1_score 0.2307941653160454\n",
            "accuracy_score 0.8945333333333333\n",
            "roc_auc_score 0.5912752774285557\n",
            "mean_squared_error 0.10546666666666667\n"
          ]
        }
      ],
      "source": [
        "print_scores(y_test,y_predict)"
      ]
    },
    {
      "cell_type": "markdown",
      "source": [
        "Проверьте, не переобучились ли вы - сравните значения метрик на обучающей и валиадционной выборках:"
      ],
      "metadata": {
        "id": "202vl3KTKkOF"
      }
    },
    {
      "cell_type": "code",
      "source": [
        "y_train_predict = clf_model.predict(X_train)"
      ],
      "metadata": {
        "id": "HQoRMK-z9Q4k"
      },
      "execution_count": 118,
      "outputs": []
    },
    {
      "cell_type": "code",
      "source": [
        "print_scores(y_train,y_train_predict)"
      ],
      "metadata": {
        "id": "-QxG-eH6LqP4",
        "colab": {
          "base_uri": "https://localhost:8080/"
        },
        "outputId": "3588e14c-666b-42df-98e3-78d3497814f9"
      },
      "execution_count": 119,
      "outputs": [
        {
          "output_type": "stream",
          "name": "stdout",
          "text": [
            "f1_score 0.9992944828559334\n",
            "accuracy_score 0.9999047619047619\n",
            "roc_auc_score 0.9994256116444407\n",
            "mean_squared_error 9.523809523809524e-05\n"
          ]
        }
      ]
    },
    {
      "cell_type": "markdown",
      "source": [
        "ПЕРЕОБУЧИЛСЯ МАКСИМАЛЬНО :-)"
      ],
      "metadata": {
        "id": "Y9GRoFkL9rG1"
      }
    },
    {
      "cell_type": "markdown",
      "metadata": {
        "id": "DF5l89C9BXx2"
      },
      "source": [
        "## Дерево решений + `GridSearch` - 2 балла"
      ]
    },
    {
      "cell_type": "markdown",
      "source": [
        "Выберите 2 гиперпараметра и по 3-5 значений для каждого из них:"
      ],
      "metadata": {
        "id": "2N6XUHcXKy92"
      }
    },
    {
      "cell_type": "code",
      "execution_count": 120,
      "metadata": {
        "id": "S1xuQl2OBXx2",
        "colab": {
          "base_uri": "https://localhost:8080/"
        },
        "outputId": "58e62a7e-61b6-457d-f715-a0254c9a07d6"
      },
      "outputs": [
        {
          "output_type": "stream",
          "name": "stdout",
          "text": [
            "Best parameters: {'criterion': 'entropy', 'max_depth': 7, 'max_features': 'log2', 'splitter': 'best'}\n",
            "Best score: 0.17776450201522412\n"
          ]
        }
      ],
      "source": [
        "from sklearn.model_selection import GridSearchCV\n",
        "\n",
        "parameters = {'criterion':['gini', 'entropy', 'log_loss'],\n",
        "              'max_depth':[2,3,4,5,6,7],\n",
        "              'splitter': ['best', 'random'],\n",
        "              'max_features': ['sqrt', 'log2']}\n",
        "\n",
        "\n",
        "\n",
        "# scoring = ['f1', 'accuracy', 'roc_auc', 'neg_mean_squared_error']\n",
        "\n",
        "scoring = 'f1'\n",
        "\n",
        "clf_model = DecisionTreeClassifier()\n",
        "clf = GridSearchCV(clf_model, parameters,scoring=scoring, refit='f1', cv=10)\n",
        "clf.fit(X_train, y_train)\n",
        "\n",
        "print(\"Best parameters:\", clf.best_params_)\n",
        "\n",
        "print(\"Best score:\", clf.best_score_)"
      ]
    },
    {
      "cell_type": "markdown",
      "source": [
        "Сравните значения метрик. Какой получили прирост?"
      ],
      "metadata": {
        "id": "8_F2QYmLLE9W"
      }
    },
    {
      "cell_type": "code",
      "source": [
        "clf_best_CV_model = DecisionTreeClassifier(**clf.best_params_)\n",
        "clf_best_CV_model.fit(X_train,y_train)\n"
      ],
      "metadata": {
        "id": "kvgjzrIWLLGu",
        "colab": {
          "base_uri": "https://localhost:8080/",
          "height": 74
        },
        "outputId": "f0d166c2-60f5-454e-e001-3daeb3b85a57"
      },
      "execution_count": 121,
      "outputs": [
        {
          "output_type": "execute_result",
          "data": {
            "text/plain": [
              "DecisionTreeClassifier(criterion='entropy', max_depth=7, max_features='log2')"
            ],
            "text/html": [
              "<style>#sk-container-id-12 {color: black;background-color: white;}#sk-container-id-12 pre{padding: 0;}#sk-container-id-12 div.sk-toggleable {background-color: white;}#sk-container-id-12 label.sk-toggleable__label {cursor: pointer;display: block;width: 100%;margin-bottom: 0;padding: 0.3em;box-sizing: border-box;text-align: center;}#sk-container-id-12 label.sk-toggleable__label-arrow:before {content: \"▸\";float: left;margin-right: 0.25em;color: #696969;}#sk-container-id-12 label.sk-toggleable__label-arrow:hover:before {color: black;}#sk-container-id-12 div.sk-estimator:hover label.sk-toggleable__label-arrow:before {color: black;}#sk-container-id-12 div.sk-toggleable__content {max-height: 0;max-width: 0;overflow: hidden;text-align: left;background-color: #f0f8ff;}#sk-container-id-12 div.sk-toggleable__content pre {margin: 0.2em;color: black;border-radius: 0.25em;background-color: #f0f8ff;}#sk-container-id-12 input.sk-toggleable__control:checked~div.sk-toggleable__content {max-height: 200px;max-width: 100%;overflow: auto;}#sk-container-id-12 input.sk-toggleable__control:checked~label.sk-toggleable__label-arrow:before {content: \"▾\";}#sk-container-id-12 div.sk-estimator input.sk-toggleable__control:checked~label.sk-toggleable__label {background-color: #d4ebff;}#sk-container-id-12 div.sk-label input.sk-toggleable__control:checked~label.sk-toggleable__label {background-color: #d4ebff;}#sk-container-id-12 input.sk-hidden--visually {border: 0;clip: rect(1px 1px 1px 1px);clip: rect(1px, 1px, 1px, 1px);height: 1px;margin: -1px;overflow: hidden;padding: 0;position: absolute;width: 1px;}#sk-container-id-12 div.sk-estimator {font-family: monospace;background-color: #f0f8ff;border: 1px dotted black;border-radius: 0.25em;box-sizing: border-box;margin-bottom: 0.5em;}#sk-container-id-12 div.sk-estimator:hover {background-color: #d4ebff;}#sk-container-id-12 div.sk-parallel-item::after {content: \"\";width: 100%;border-bottom: 1px solid gray;flex-grow: 1;}#sk-container-id-12 div.sk-label:hover label.sk-toggleable__label {background-color: #d4ebff;}#sk-container-id-12 div.sk-serial::before {content: \"\";position: absolute;border-left: 1px solid gray;box-sizing: border-box;top: 0;bottom: 0;left: 50%;z-index: 0;}#sk-container-id-12 div.sk-serial {display: flex;flex-direction: column;align-items: center;background-color: white;padding-right: 0.2em;padding-left: 0.2em;position: relative;}#sk-container-id-12 div.sk-item {position: relative;z-index: 1;}#sk-container-id-12 div.sk-parallel {display: flex;align-items: stretch;justify-content: center;background-color: white;position: relative;}#sk-container-id-12 div.sk-item::before, #sk-container-id-12 div.sk-parallel-item::before {content: \"\";position: absolute;border-left: 1px solid gray;box-sizing: border-box;top: 0;bottom: 0;left: 50%;z-index: -1;}#sk-container-id-12 div.sk-parallel-item {display: flex;flex-direction: column;z-index: 1;position: relative;background-color: white;}#sk-container-id-12 div.sk-parallel-item:first-child::after {align-self: flex-end;width: 50%;}#sk-container-id-12 div.sk-parallel-item:last-child::after {align-self: flex-start;width: 50%;}#sk-container-id-12 div.sk-parallel-item:only-child::after {width: 0;}#sk-container-id-12 div.sk-dashed-wrapped {border: 1px dashed gray;margin: 0 0.4em 0.5em 0.4em;box-sizing: border-box;padding-bottom: 0.4em;background-color: white;}#sk-container-id-12 div.sk-label label {font-family: monospace;font-weight: bold;display: inline-block;line-height: 1.2em;}#sk-container-id-12 div.sk-label-container {text-align: center;}#sk-container-id-12 div.sk-container {/* jupyter's `normalize.less` sets `[hidden] { display: none; }` but bootstrap.min.css set `[hidden] { display: none !important; }` so we also need the `!important` here to be able to override the default hidden behavior on the sphinx rendered scikit-learn.org. See: https://github.com/scikit-learn/scikit-learn/issues/21755 */display: inline-block !important;position: relative;}#sk-container-id-12 div.sk-text-repr-fallback {display: none;}</style><div id=\"sk-container-id-12\" class=\"sk-top-container\"><div class=\"sk-text-repr-fallback\"><pre>DecisionTreeClassifier(criterion=&#x27;entropy&#x27;, max_depth=7, max_features=&#x27;log2&#x27;)</pre><b>In a Jupyter environment, please rerun this cell to show the HTML representation or trust the notebook. <br />On GitHub, the HTML representation is unable to render, please try loading this page with nbviewer.org.</b></div><div class=\"sk-container\" hidden><div class=\"sk-item\"><div class=\"sk-estimator sk-toggleable\"><input class=\"sk-toggleable__control sk-hidden--visually\" id=\"sk-estimator-id-12\" type=\"checkbox\" checked><label for=\"sk-estimator-id-12\" class=\"sk-toggleable__label sk-toggleable__label-arrow\">DecisionTreeClassifier</label><div class=\"sk-toggleable__content\"><pre>DecisionTreeClassifier(criterion=&#x27;entropy&#x27;, max_depth=7, max_features=&#x27;log2&#x27;)</pre></div></div></div></div></div>"
            ]
          },
          "metadata": {},
          "execution_count": 121
        }
      ]
    },
    {
      "cell_type": "code",
      "source": [
        "y_predict_CV = clf_best_CV_model.predict(X_test)\n",
        "print_scores(y_test,y_predict_CV)"
      ],
      "metadata": {
        "colab": {
          "base_uri": "https://localhost:8080/"
        },
        "id": "JYd0BQ01iSa8",
        "outputId": "96b83aa4-1422-49d7-ee87-689bd8a2a748"
      },
      "execution_count": 122,
      "outputs": [
        {
          "output_type": "stream",
          "name": "stdout",
          "text": [
            "f1_score 0.23842469398616287\n",
            "accuracy_score 0.9364\n",
            "roc_auc_score 0.5718486712345946\n",
            "mean_squared_error 0.0636\n"
          ]
        }
      ]
    },
    {
      "cell_type": "markdown",
      "source": [
        "ПРИРОСТА ОСОБЕННОГО НЕТ по ставнению с дефолтными параметрамаи классификатора"
      ],
      "metadata": {
        "id": "70FH0GmJikW1"
      }
    },
    {
      "cell_type": "markdown",
      "source": [
        "## Случайный лес - 2 балла"
      ],
      "metadata": {
        "id": "01VQQQ0cLQEn"
      }
    },
    {
      "cell_type": "markdown",
      "source": [
        "Обучите модель случайного леса:"
      ],
      "metadata": {
        "id": "77EVsfUQLsR3"
      }
    },
    {
      "cell_type": "code",
      "source": [
        "from sklearn.ensemble import RandomForestClassifier\n",
        "\n",
        "rfc = RandomForestClassifier(n_estimators=500)\n",
        "rfc.fit(X_train, y_train)"
      ],
      "metadata": {
        "id": "DeelnF8RLvRN",
        "colab": {
          "base_uri": "https://localhost:8080/",
          "height": 74
        },
        "outputId": "267907b5-0f23-43c0-fa79-ccc9b813691e"
      },
      "execution_count": 131,
      "outputs": [
        {
          "output_type": "execute_result",
          "data": {
            "text/plain": [
              "RandomForestClassifier(n_estimators=500)"
            ],
            "text/html": [
              "<style>#sk-container-id-14 {color: black;background-color: white;}#sk-container-id-14 pre{padding: 0;}#sk-container-id-14 div.sk-toggleable {background-color: white;}#sk-container-id-14 label.sk-toggleable__label {cursor: pointer;display: block;width: 100%;margin-bottom: 0;padding: 0.3em;box-sizing: border-box;text-align: center;}#sk-container-id-14 label.sk-toggleable__label-arrow:before {content: \"▸\";float: left;margin-right: 0.25em;color: #696969;}#sk-container-id-14 label.sk-toggleable__label-arrow:hover:before {color: black;}#sk-container-id-14 div.sk-estimator:hover label.sk-toggleable__label-arrow:before {color: black;}#sk-container-id-14 div.sk-toggleable__content {max-height: 0;max-width: 0;overflow: hidden;text-align: left;background-color: #f0f8ff;}#sk-container-id-14 div.sk-toggleable__content pre {margin: 0.2em;color: black;border-radius: 0.25em;background-color: #f0f8ff;}#sk-container-id-14 input.sk-toggleable__control:checked~div.sk-toggleable__content {max-height: 200px;max-width: 100%;overflow: auto;}#sk-container-id-14 input.sk-toggleable__control:checked~label.sk-toggleable__label-arrow:before {content: \"▾\";}#sk-container-id-14 div.sk-estimator input.sk-toggleable__control:checked~label.sk-toggleable__label {background-color: #d4ebff;}#sk-container-id-14 div.sk-label input.sk-toggleable__control:checked~label.sk-toggleable__label {background-color: #d4ebff;}#sk-container-id-14 input.sk-hidden--visually {border: 0;clip: rect(1px 1px 1px 1px);clip: rect(1px, 1px, 1px, 1px);height: 1px;margin: -1px;overflow: hidden;padding: 0;position: absolute;width: 1px;}#sk-container-id-14 div.sk-estimator {font-family: monospace;background-color: #f0f8ff;border: 1px dotted black;border-radius: 0.25em;box-sizing: border-box;margin-bottom: 0.5em;}#sk-container-id-14 div.sk-estimator:hover {background-color: #d4ebff;}#sk-container-id-14 div.sk-parallel-item::after {content: \"\";width: 100%;border-bottom: 1px solid gray;flex-grow: 1;}#sk-container-id-14 div.sk-label:hover label.sk-toggleable__label {background-color: #d4ebff;}#sk-container-id-14 div.sk-serial::before {content: \"\";position: absolute;border-left: 1px solid gray;box-sizing: border-box;top: 0;bottom: 0;left: 50%;z-index: 0;}#sk-container-id-14 div.sk-serial {display: flex;flex-direction: column;align-items: center;background-color: white;padding-right: 0.2em;padding-left: 0.2em;position: relative;}#sk-container-id-14 div.sk-item {position: relative;z-index: 1;}#sk-container-id-14 div.sk-parallel {display: flex;align-items: stretch;justify-content: center;background-color: white;position: relative;}#sk-container-id-14 div.sk-item::before, #sk-container-id-14 div.sk-parallel-item::before {content: \"\";position: absolute;border-left: 1px solid gray;box-sizing: border-box;top: 0;bottom: 0;left: 50%;z-index: -1;}#sk-container-id-14 div.sk-parallel-item {display: flex;flex-direction: column;z-index: 1;position: relative;background-color: white;}#sk-container-id-14 div.sk-parallel-item:first-child::after {align-self: flex-end;width: 50%;}#sk-container-id-14 div.sk-parallel-item:last-child::after {align-self: flex-start;width: 50%;}#sk-container-id-14 div.sk-parallel-item:only-child::after {width: 0;}#sk-container-id-14 div.sk-dashed-wrapped {border: 1px dashed gray;margin: 0 0.4em 0.5em 0.4em;box-sizing: border-box;padding-bottom: 0.4em;background-color: white;}#sk-container-id-14 div.sk-label label {font-family: monospace;font-weight: bold;display: inline-block;line-height: 1.2em;}#sk-container-id-14 div.sk-label-container {text-align: center;}#sk-container-id-14 div.sk-container {/* jupyter's `normalize.less` sets `[hidden] { display: none; }` but bootstrap.min.css set `[hidden] { display: none !important; }` so we also need the `!important` here to be able to override the default hidden behavior on the sphinx rendered scikit-learn.org. See: https://github.com/scikit-learn/scikit-learn/issues/21755 */display: inline-block !important;position: relative;}#sk-container-id-14 div.sk-text-repr-fallback {display: none;}</style><div id=\"sk-container-id-14\" class=\"sk-top-container\"><div class=\"sk-text-repr-fallback\"><pre>RandomForestClassifier(n_estimators=500)</pre><b>In a Jupyter environment, please rerun this cell to show the HTML representation or trust the notebook. <br />On GitHub, the HTML representation is unable to render, please try loading this page with nbviewer.org.</b></div><div class=\"sk-container\" hidden><div class=\"sk-item\"><div class=\"sk-estimator sk-toggleable\"><input class=\"sk-toggleable__control sk-hidden--visually\" id=\"sk-estimator-id-14\" type=\"checkbox\" checked><label for=\"sk-estimator-id-14\" class=\"sk-toggleable__label sk-toggleable__label-arrow\">RandomForestClassifier</label><div class=\"sk-toggleable__content\"><pre>RandomForestClassifier(n_estimators=500)</pre></div></div></div></div></div>"
            ]
          },
          "metadata": {},
          "execution_count": 131
        }
      ]
    },
    {
      "cell_type": "markdown",
      "source": [
        "Аналогично, посчитайте значение метрик:"
      ],
      "metadata": {
        "id": "gqqsWfFJL8yI"
      }
    },
    {
      "cell_type": "code",
      "source": [
        "y_predict_rfc = rfс.predict(X_test)\n",
        "\n",
        "print_scores(y_test,y_predict_rfc)"
      ],
      "metadata": {
        "id": "Ypim29_cL_A-",
        "colab": {
          "base_uri": "https://localhost:8080/"
        },
        "outputId": "3d87978a-fb84-49ca-8cda-703eafbf7a85"
      },
      "execution_count": 132,
      "outputs": [
        {
          "output_type": "stream",
          "name": "stdout",
          "text": [
            "f1_score 0.8149001536098309\n",
            "accuracy_score 0.9785777777777778\n",
            "roc_auc_score 0.8595930244609746\n",
            "mean_squared_error 0.02142222222222222\n"
          ]
        }
      ]
    },
    {
      "cell_type": "code",
      "source": [
        "from sklearn.metrics import classification_report\n",
        "\n",
        "print(classification_report(y_test, y_predict_rfc))"
      ],
      "metadata": {
        "colab": {
          "base_uri": "https://localhost:8080/"
        },
        "id": "vDx-gUxtkKSv",
        "outputId": "4512e758-c185-4626-dfd5-71ceef7118b6"
      },
      "execution_count": 133,
      "outputs": [
        {
          "output_type": "stream",
          "name": "stdout",
          "text": [
            "              precision    recall  f1-score   support\n",
            "\n",
            "           0       0.98      1.00      0.99     21032\n",
            "           1       0.93      0.72      0.81      1468\n",
            "\n",
            "    accuracy                           0.98     22500\n",
            "   macro avg       0.96      0.86      0.90     22500\n",
            "weighted avg       0.98      0.98      0.98     22500\n",
            "\n"
          ]
        }
      ]
    },
    {
      "cell_type": "markdown",
      "source": [
        "И проверьте на переобучение:"
      ],
      "metadata": {
        "id": "R6er3daxL_d4"
      }
    },
    {
      "cell_type": "code",
      "source": [
        "y_train_predict_rfc = rfс.predict(X_train)\n",
        "\n",
        "print_scores(y_train,y_train_predict_rfc)"
      ],
      "metadata": {
        "id": "rSy-m4CNMA1T",
        "colab": {
          "base_uri": "https://localhost:8080/"
        },
        "outputId": "02aef9fa-306f-4b6b-82ad-1046a0fcb19e"
      },
      "execution_count": 134,
      "outputs": [
        {
          "output_type": "stream",
          "name": "stdout",
          "text": [
            "f1_score 0.8311770274534553\n",
            "accuracy_score 0.9796190476190476\n",
            "roc_auc_score 0.8698852274886453\n",
            "mean_squared_error 0.02038095238095238\n"
          ]
        }
      ]
    },
    {
      "cell_type": "markdown",
      "source": [
        "Какие выводы можем сделать при сравнении случайного леса и одного решающего дерева?"
      ],
      "metadata": {
        "id": "C7OKSEFIMWWU"
      }
    },
    {
      "cell_type": "markdown",
      "source": [
        "**Ваш ответ здесь:**\n",
        "\n",
        "1.   переобучение у леса заметно ниже\n",
        "2.   качетво предсказаний заметно лучше"
      ],
      "metadata": {
        "id": "zNFBd8NAMdKo"
      }
    },
    {
      "cell_type": "markdown",
      "source": [
        "## Градиентный бустинг - 2 балла"
      ],
      "metadata": {
        "id": "YEwx7hAUMC7U"
      }
    },
    {
      "cell_type": "markdown",
      "source": [
        "С помощью библиотеки LightGBM обучим градиентный бустинг на решающих деревьях:"
      ],
      "metadata": {
        "id": "bdben5_fMiuX"
      }
    },
    {
      "cell_type": "code",
      "source": [
        "from lightgbm import LGBMClassifier\n",
        "\n",
        "lgbmc_model = LGBMClassifier(n_estimators=500, learning_rate=0.05)\n",
        "lgbmc_model.fit(X_train,y_train)"
      ],
      "metadata": {
        "id": "qVBL1N7_ME4z",
        "colab": {
          "base_uri": "https://localhost:8080/",
          "height": 196
        },
        "outputId": "301264f0-0e5f-4006-a180-4a44681943eb"
      },
      "execution_count": 158,
      "outputs": [
        {
          "output_type": "stream",
          "name": "stdout",
          "text": [
            "[LightGBM] [Info] Number of positive: 3545, number of negative: 48955\n",
            "[LightGBM] [Info] Auto-choosing col-wise multi-threading, the overhead of testing was 0.010751 seconds.\n",
            "You can set `force_col_wise=true` to remove the overhead.\n",
            "[LightGBM] [Info] Total Bins 1118\n",
            "[LightGBM] [Info] Number of data points in the train set: 52500, number of used features: 9\n",
            "[LightGBM] [Info] [binary:BoostFromScore]: pavg=0.067524 -> initscore=-2.625363\n",
            "[LightGBM] [Info] Start training from score -2.625363\n"
          ]
        },
        {
          "output_type": "execute_result",
          "data": {
            "text/plain": [
              "LGBMClassifier(learning_rate=0.05, n_estimators=500)"
            ],
            "text/html": [
              "<style>#sk-container-id-23 {color: black;background-color: white;}#sk-container-id-23 pre{padding: 0;}#sk-container-id-23 div.sk-toggleable {background-color: white;}#sk-container-id-23 label.sk-toggleable__label {cursor: pointer;display: block;width: 100%;margin-bottom: 0;padding: 0.3em;box-sizing: border-box;text-align: center;}#sk-container-id-23 label.sk-toggleable__label-arrow:before {content: \"▸\";float: left;margin-right: 0.25em;color: #696969;}#sk-container-id-23 label.sk-toggleable__label-arrow:hover:before {color: black;}#sk-container-id-23 div.sk-estimator:hover label.sk-toggleable__label-arrow:before {color: black;}#sk-container-id-23 div.sk-toggleable__content {max-height: 0;max-width: 0;overflow: hidden;text-align: left;background-color: #f0f8ff;}#sk-container-id-23 div.sk-toggleable__content pre {margin: 0.2em;color: black;border-radius: 0.25em;background-color: #f0f8ff;}#sk-container-id-23 input.sk-toggleable__control:checked~div.sk-toggleable__content {max-height: 200px;max-width: 100%;overflow: auto;}#sk-container-id-23 input.sk-toggleable__control:checked~label.sk-toggleable__label-arrow:before {content: \"▾\";}#sk-container-id-23 div.sk-estimator input.sk-toggleable__control:checked~label.sk-toggleable__label {background-color: #d4ebff;}#sk-container-id-23 div.sk-label input.sk-toggleable__control:checked~label.sk-toggleable__label {background-color: #d4ebff;}#sk-container-id-23 input.sk-hidden--visually {border: 0;clip: rect(1px 1px 1px 1px);clip: rect(1px, 1px, 1px, 1px);height: 1px;margin: -1px;overflow: hidden;padding: 0;position: absolute;width: 1px;}#sk-container-id-23 div.sk-estimator {font-family: monospace;background-color: #f0f8ff;border: 1px dotted black;border-radius: 0.25em;box-sizing: border-box;margin-bottom: 0.5em;}#sk-container-id-23 div.sk-estimator:hover {background-color: #d4ebff;}#sk-container-id-23 div.sk-parallel-item::after {content: \"\";width: 100%;border-bottom: 1px solid gray;flex-grow: 1;}#sk-container-id-23 div.sk-label:hover label.sk-toggleable__label {background-color: #d4ebff;}#sk-container-id-23 div.sk-serial::before {content: \"\";position: absolute;border-left: 1px solid gray;box-sizing: border-box;top: 0;bottom: 0;left: 50%;z-index: 0;}#sk-container-id-23 div.sk-serial {display: flex;flex-direction: column;align-items: center;background-color: white;padding-right: 0.2em;padding-left: 0.2em;position: relative;}#sk-container-id-23 div.sk-item {position: relative;z-index: 1;}#sk-container-id-23 div.sk-parallel {display: flex;align-items: stretch;justify-content: center;background-color: white;position: relative;}#sk-container-id-23 div.sk-item::before, #sk-container-id-23 div.sk-parallel-item::before {content: \"\";position: absolute;border-left: 1px solid gray;box-sizing: border-box;top: 0;bottom: 0;left: 50%;z-index: -1;}#sk-container-id-23 div.sk-parallel-item {display: flex;flex-direction: column;z-index: 1;position: relative;background-color: white;}#sk-container-id-23 div.sk-parallel-item:first-child::after {align-self: flex-end;width: 50%;}#sk-container-id-23 div.sk-parallel-item:last-child::after {align-self: flex-start;width: 50%;}#sk-container-id-23 div.sk-parallel-item:only-child::after {width: 0;}#sk-container-id-23 div.sk-dashed-wrapped {border: 1px dashed gray;margin: 0 0.4em 0.5em 0.4em;box-sizing: border-box;padding-bottom: 0.4em;background-color: white;}#sk-container-id-23 div.sk-label label {font-family: monospace;font-weight: bold;display: inline-block;line-height: 1.2em;}#sk-container-id-23 div.sk-label-container {text-align: center;}#sk-container-id-23 div.sk-container {/* jupyter's `normalize.less` sets `[hidden] { display: none; }` but bootstrap.min.css set `[hidden] { display: none !important; }` so we also need the `!important` here to be able to override the default hidden behavior on the sphinx rendered scikit-learn.org. See: https://github.com/scikit-learn/scikit-learn/issues/21755 */display: inline-block !important;position: relative;}#sk-container-id-23 div.sk-text-repr-fallback {display: none;}</style><div id=\"sk-container-id-23\" class=\"sk-top-container\"><div class=\"sk-text-repr-fallback\"><pre>LGBMClassifier(learning_rate=0.05, n_estimators=500)</pre><b>In a Jupyter environment, please rerun this cell to show the HTML representation or trust the notebook. <br />On GitHub, the HTML representation is unable to render, please try loading this page with nbviewer.org.</b></div><div class=\"sk-container\" hidden><div class=\"sk-item\"><div class=\"sk-estimator sk-toggleable\"><input class=\"sk-toggleable__control sk-hidden--visually\" id=\"sk-estimator-id-23\" type=\"checkbox\" checked><label for=\"sk-estimator-id-23\" class=\"sk-toggleable__label sk-toggleable__label-arrow\">LGBMClassifier</label><div class=\"sk-toggleable__content\"><pre>LGBMClassifier(learning_rate=0.05, n_estimators=500)</pre></div></div></div></div></div>"
            ]
          },
          "metadata": {},
          "execution_count": 158
        }
      ]
    },
    {
      "cell_type": "markdown",
      "source": [
        "Аналогично, посмотрим на метрики:"
      ],
      "metadata": {
        "id": "RX56JnQaNJDS"
      }
    },
    {
      "cell_type": "code",
      "source": [
        "y_train_predict_lgbmc = lgbmc_model.predict(X_train)\n",
        "y_test_predict_lgbmc = lgbmc_model.predict(X_test)\n",
        "\n",
        "print(\"На трейн даннных\")\n",
        "print_scores(y_train,y_train_predict_lgbmc)"
      ],
      "metadata": {
        "id": "-ca9pq4CNGTF",
        "colab": {
          "base_uri": "https://localhost:8080/"
        },
        "outputId": "e32b14c8-723b-4d86-c967-fbc6464de117"
      },
      "execution_count": 159,
      "outputs": [
        {
          "output_type": "stream",
          "name": "stdout",
          "text": [
            "На трейн даннных\n",
            "f1_score 0.45068027210884354\n",
            "accuracy_score 0.9507809523809524\n",
            "roc_auc_score 0.648495214294697\n",
            "mean_squared_error 0.04921904761904762\n"
          ]
        }
      ]
    },
    {
      "cell_type": "code",
      "source": [
        "print(\"На тест даннных\")\n",
        "print_scores(y_test,y_test_predict_lgbmc)"
      ],
      "metadata": {
        "colab": {
          "base_uri": "https://localhost:8080/"
        },
        "id": "8wIfmQoppIO5",
        "outputId": "f810c675-e3fc-4dfd-c521-97fb7e14c354"
      },
      "execution_count": 160,
      "outputs": [
        {
          "output_type": "stream",
          "name": "stdout",
          "text": [
            "На тест даннных\n",
            "f1_score 0.20735052111903454\n",
            "accuracy_score 0.9357777777777778\n",
            "roc_auc_score 0.5604269295626334\n",
            "mean_squared_error 0.06422222222222222\n"
          ]
        }
      ]
    },
    {
      "cell_type": "markdown",
      "source": [
        "Какие выводы можем сделать при сравнении случайного леса и градиентного бустинга? Что заметили?"
      ],
      "metadata": {
        "id": "dTn1krGYNSLF"
      }
    },
    {
      "cell_type": "markdown",
      "source": [
        "**Ваш ответ здесь:**\n",
        "\n",
        "\n",
        "\n",
        "1.   При маленьких значениях n_estimators = 500. Обучается бустинг заметно быстрее и качество предстказаний как на тестовой так  и на обучающей выборке заметно хуже, чем у леса. Сравнимо с единичным деревом\n",
        "2.   При увеличении n_estimators  до 5000 время работы сравнимое с лесом, но при этом на лицо переобучение. Видимо надо аккуратно перебирать параметры через GridSearchCV\n",
        "\n",
        "\n",
        "\n",
        "\n",
        "\n",
        "\n"
      ],
      "metadata": {
        "id": "qL50Yr2kNSMA"
      }
    }
  ],
  "metadata": {
    "kernelspec": {
      "display_name": "Python 3",
      "language": "python",
      "name": "python3"
    },
    "language_info": {
      "codemirror_mode": {
        "name": "ipython",
        "version": 3
      },
      "file_extension": ".py",
      "mimetype": "text/x-python",
      "name": "python",
      "nbconvert_exporter": "python",
      "pygments_lexer": "ipython3",
      "version": "3.7.4"
    },
    "colab": {
      "provenance": [],
      "include_colab_link": true
    }
  },
  "nbformat": 4,
  "nbformat_minor": 0
}